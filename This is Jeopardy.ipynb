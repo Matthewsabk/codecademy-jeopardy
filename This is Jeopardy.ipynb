{
 "cells": [
  {
   "cell_type": "markdown",
   "metadata": {},
   "source": [
    "# This is Jeopardy!"
   ]
  },
  {
   "cell_type": "markdown",
   "metadata": {},
   "source": [
    "#### Overview"
   ]
  },
  {
   "cell_type": "markdown",
   "metadata": {},
   "source": [
    "This project is slightly different than others you have encountered thus far. Instead of a step-by-step tutorial, this project contains a series of open-ended requirements which describe the project you'll be building. There are many possible ways to correctly fulfill all of these requirements, and you should expect to use the internet, Codecademy, and/or other resources when you encounter a problem that you cannot easily solve."
   ]
  },
  {
   "cell_type": "markdown",
   "metadata": {},
   "source": [
    "#### Project Goals"
   ]
  },
  {
   "cell_type": "markdown",
   "metadata": {},
   "source": [
    "You will work to write several functions that investigate a dataset of _Jeopardy!_ questions and answers. Filter the dataset for topics that you're interested in, compute the average difficulty of those questions, and train to become the next Jeopardy champion!"
   ]
  },
  {
   "cell_type": "markdown",
   "metadata": {},
   "source": [
    "## Prerequisites"
   ]
  },
  {
   "cell_type": "markdown",
   "metadata": {},
   "source": [
    "In order to complete this project, you should have completed the Pandas lessons in the <a href=\"https://www.codecademy.com/learn/paths/analyze-data-with-python\">Analyze Data with Python Skill Path</a>. You can also find those lessons in the <a href=\"https://www.codecademy.com/learn/data-processing-pandas\">Data Analysis with Pandas course</a> or the <a href=\"https://www.codecademy.com/learn/paths/data-science/\">Data Scientist Career Path</a>.\n",
    "\n",
    "Finally, the <a href=\"https://www.codecademy.com/learn/practical-data-cleaning\">Practical Data Cleaning</a> course may also be helpful."
   ]
  },
  {
   "cell_type": "markdown",
   "metadata": {},
   "source": [
    "## Project Requirements"
   ]
  },
  {
   "cell_type": "markdown",
   "metadata": {},
   "source": [
    "1. We've provided a csv file containing data about the game show _Jeopardy!_ in a file named `jeopardy.csv`. Load the data into a DataFrame and investigate its contents. Try to print out specific columns.\n",
    "\n",
    "   Note that in order to make this project as \"real-world\" as possible, we haven't modified the data at all - we're giving it to you exactly how we found it. As a result, this data isn't as \"clean\" as the datasets you normally find on Codecademy. More specifically, there's something odd about the column names. After you figure out the problem with the column names, you may want to rename them to make your life easier for the rest of the project.\n",
    "   \n",
    "   In order to display the full contents of a column, we've added this line of code for you:\n",
    "   \n",
    "   ```py\n",
    "   pd.set_option('display.max_colwidth', None)\n",
    "   ```"
   ]
  },
  {
   "cell_type": "code",
   "execution_count": 1,
   "metadata": {},
   "outputs": [],
   "source": [
    "import pandas as pd\n",
    "import re\n",
    "from bs4 import BeautifulSoup, Tag, NavigableString\n",
    "import numpy as np\n",
    "pd.set_option('display.max_colwidth', None)\n",
    "pd.set_option('display.max_rows', None)\n",
    "jeopardy = pd.read_csv(\"jeopardy.csv\")"
   ]
  },
  {
   "attachments": {},
   "cell_type": "markdown",
   "metadata": {},
   "source": [
    "Data cleaning:\n",
    "* Strip whitespace from beginning/end of column names, remove spaces between column name words, and make column names all lower case\n",
    "* Make sure that all game rounds are lower case and without punctuation\n",
    "* Check for null fields in dataframe & remove or repair\n",
    "* Fix the two answers that are 'null'\n",
    "* Check the categories column, make it lower case & remove/replace punctuation\n",
    "* Find duplicated questions and remove duplicates\n",
    "* Find all video/audio/image questions that don't have an associated file link and remove them\n",
    "* Find all link based questions and create a new column for the links, then replace the links with link_text\n",
    "* "
   ]
  },
  {
   "cell_type": "code",
   "execution_count": 2,
   "metadata": {},
   "outputs": [],
   "source": [
    "#rename the columns with useable names - remove whitespace, use lower case, change round and value to non-reserved names\n",
    "jeopardy = jeopardy.rename(columns = {'Show Number':'show_number', ' Air Date':'air_date', ' Round':'game_round', ' Category':'category', ' Value': 'dollar_value',' Question':'question', ' Answer':'answer'})"
   ]
  },
  {
   "cell_type": "code",
   "execution_count": 3,
   "metadata": {},
   "outputs": [],
   "source": [
    "#Remove punctuation from game rounds\n",
    "#print(jeopardy.game_round.unique())\n",
    "jeopardy['game_round'] = jeopardy.game_round.apply(lambda x: x.replace('!', ''))\n",
    "#print(jeopardy.game_round.unique())"
   ]
  },
  {
   "cell_type": "code",
   "execution_count": 4,
   "metadata": {},
   "outputs": [],
   "source": [
    "#Categories - remove whitespace, create new column that's just the words from the category (for analysis) without punctuation, but replace '!' with 'exclamation mark [altered]'\n",
    "#print(jeopardy.category.count())\n",
    "#print(jeopardy.category.nunique())\n",
    "jeopardy['category'] = jeopardy.category.apply(lambda x: x.strip())\n",
    "jeopardy['category_words']= jeopardy['category']\n",
    "jeopardy['category_words'] = jeopardy.category.apply(lambda x: x.lower())\n",
    "exclaim_ind = jeopardy.index[jeopardy.category_words =='\"!\"'].to_list()\n",
    "for idx in exclaim_ind:\n",
    "    jeopardy.at[idx, 'category_words'] = \"exclamation mark [altered]\""
   ]
  },
  {
   "cell_type": "code",
   "execution_count": 5,
   "metadata": {},
   "outputs": [],
   "source": [
    "#Function to remove the special characters from a column and just let the words exist in a new column\n",
    "def replace_in_column (column, **kwargs):\n",
    "    for key, value in kwargs.items():\n",
    "        altered_col = column.str.replace(key, value, regex = True)\n",
    "    return altered_col\n",
    "replace_punctuation = {'&': 'and','-':'\\ ', '_*': '(blank)', '[^\\w\\s]':''}\n",
    "jeopardy['category_words'] = replace_in_column(jeopardy['category_words'],**replace_punctuation)"
   ]
  },
  {
   "attachments": {},
   "cell_type": "markdown",
   "metadata": {},
   "source": [
    "**NOTE**\n",
    "The below code is a little slow. Consider how to re-write it?"
   ]
  },
  {
   "cell_type": "code",
   "execution_count": 6,
   "metadata": {},
   "outputs": [],
   "source": [
    "#Function to create a link column from the links in text string in a new column\n",
    "def link_finder (column):\n",
    "       soup = BeautifulSoup(column, 'html.parser')\n",
    "       links = soup.findAll('a', href = True)\n",
    "       urls = []\n",
    "       if links != []:\n",
    "            for link in links:\n",
    "                     url = link['href']\n",
    "                     urls.append(url)\n",
    "       else:\n",
    "            urls.append(\"no link\")\n",
    "       urls = \", \".join(urls)\n",
    "       return urls\n",
    "jeopardy['link_url'] = jeopardy.question.apply(link_finder)\n"
   ]
  },
  {
   "cell_type": "code",
   "execution_count": 7,
   "metadata": {},
   "outputs": [],
   "source": [
    "#Check for duplicate questions & filter to unique questions\n",
    "#Remove lines containing filler questions,missing audio/video clues, There are several questions that contain [video clue], [audio clue], or [filler] with no link or data on the question, remove those\n",
    "odd_questions = jeopardy[jeopardy.question.str.contains('\\[')]\n",
    "bad_questions = ['[audio clue]', '[video clue]', '[filler]']\n",
    "filter_questions = jeopardy[jeopardy.question.isin(bad_questions)]\n",
    "jeopardy = pd.concat([jeopardy, filter_questions]).drop_duplicates(keep = False)\n",
    "# Drop any remaining duplicate questions\n",
    "jeopardy = jeopardy.drop_duplicates('question')\n",
    "duplicate_questions = jeopardy.question.duplicated().any()\n",
    "#print(duplicate_questions)"
   ]
  },
  {
   "attachments": {},
   "cell_type": "markdown",
   "metadata": {},
   "source": [
    "**Slow Code below** Why?"
   ]
  },
  {
   "cell_type": "code",
   "execution_count": 8,
   "metadata": {},
   "outputs": [],
   "source": [
    "#lambda to create a question column with no links or punctuation\n",
    "jeopardy['question_no_link'] =jeopardy.question.apply(lambda text: BeautifulSoup(text, 'html.parser').get_text())\n"
   ]
  },
  {
   "cell_type": "code",
   "execution_count": 9,
   "metadata": {},
   "outputs": [],
   "source": [
    "jeopardy['question_no_link'] = replace_in_column(jeopardy['question_no_link'], **replace_punctuation)\n",
    "jeopardy['question_no_link'] = jeopardy.question_no_link.str.lower()"
   ]
  },
  {
   "cell_type": "code",
   "execution_count": 10,
   "metadata": {},
   "outputs": [],
   "source": [
    "#The answer to two of the questions is 'null' so it got pulled in as a Null value. Let's see if we can fix that.\n",
    "#Function to replace Null values with the word 'null' when appropriate\n",
    "def null_value_fixer (df, column_name):\n",
    "    column = df[column_name]\n",
    "    indices = (df.index.values[column.isnull()])\n",
    "    new_df = df.copy()\n",
    "    for indx in indices:\n",
    "        new_df.loc[indx, column_name] = 'null'\n",
    "    return new_df\n",
    "\n",
    "jeopardy = null_value_fixer(jeopardy, 'answer')"
   ]
  },
  {
   "cell_type": "code",
   "execution_count": 11,
   "metadata": {},
   "outputs": [],
   "source": [
    "#Clean answers by duplicating column to one with just the words & text, removing punctuation and making lower case \n",
    "jeopardy['answer_words'] = replace_in_column(jeopardy['answer'], **replace_punctuation)\n",
    "jeopardy['answer_words'] = jeopardy.answer_words.str.lower()"
   ]
  },
  {
   "cell_type": "code",
   "execution_count": 12,
   "metadata": {},
   "outputs": [],
   "source": [
    "#Remove punctuation from dollar_value\n",
    "jeopardy['dollar_value'] = jeopardy.dollar_value.str.replace('(\\D+)', '', regex= True)"
   ]
  },
  {
   "cell_type": "markdown",
   "metadata": {},
   "source": [
    "2. Write a function that filters the dataset for questions that contains all of the words in a list of words. For example, when the list `[\"King\", \"England\"]` was passed to our function, the function returned a DataFrame of 49 rows. Every row had the strings `\"King\"` and `\"England\"` somewhere in its `\" Question\"`.\n",
    "\n",
    "   Test your function by printing out the column containing the question of each row of the dataset."
   ]
  },
  {
   "cell_type": "code",
   "execution_count": 13,
   "metadata": {},
   "outputs": [],
   "source": [
    "#function to find words from a words list in a dataframe column, count them, and return dictionaris of the word:count, and the word:column-rows. \n",
    "def words_list_counter (column, words_list):\n",
    "    wordlist_questions = {}\n",
    "    word_list_count = {}\n",
    "    for word in words_list:\n",
    "        word = word.lower()\n",
    "        count = column[column.str.contains(word)].count()\n",
    "        word_questions = column[column.str.contains(word)].reset_index(drop=True)\n",
    "        word_list_count[word]=count\n",
    "        wordlist_questions [word] = word_questions\n",
    "    return word_list_count, wordlist_questions\n"
   ]
  },
  {
   "cell_type": "code",
   "execution_count": 14,
   "metadata": {},
   "outputs": [
    {
     "name": "stdout",
     "output_type": "stream",
     "text": [
      "{'land': 8520, 'plain': 420, 'sea': 3844, 'ocean': 325}\n"
     ]
    }
   ],
   "source": [
    "#test the function to find questions about topics with terrains.\n",
    "terrain_list = [\"land\",\"plain\", \"sea\", \"ocean\"]\n",
    "terrain_questions_count, terrain_questions = words_list_counter(jeopardy['question'], terrain_list)\n",
    "print(terrain_questions_count)\n",
    "#print(terrain_questions)"
   ]
  },
  {
   "attachments": {},
   "cell_type": "markdown",
   "metadata": {},
   "source": [
    "This breaks on finding islands, and researchers and many countries with names that start with 'land'. It also captures many proper nouns like the name \"Garland\" and words like 'island'."
   ]
  },
  {
   "cell_type": "markdown",
   "metadata": {},
   "source": [
    "3. Test your original function with a few different sets of words to try to find some ways your function breaks. Edit your function so it is more robust.\n",
    "\n",
    "   For example, think about capitalization. We probably want to find questions that contain the word `\"King\"` or `\"king\"`.\n",
    "   \n",
    "   You may also want to check to make sure you don't find rows that contain substrings of your given words. For example, our function found a question that didn't contain the word `\"king\"`, however it did contain the word `\"viking\"` &mdash; it found the `\"king\"` inside `\"viking\"`. Note that this also comes with some drawbacks &mdash; you would no longer find questions that contained words like `\"England's\"`."
   ]
  },
  {
   "cell_type": "code",
   "execution_count": 15,
   "metadata": {},
   "outputs": [],
   "source": [
    "#function to find words from a words list in a dataframe column, count them, and return dictionaries of the word:count, and the word:column-rows. \n",
    "def words_list_counter (df, column_name, words_list):\n",
    "    column = df[column_name]\n",
    "    wordlist_questions = {}\n",
    "    word_list_count = {}\n",
    "    proper_noun_questions = {}\n",
    "    for word in words_list:\n",
    "        word = word.lower()\n",
    "        regex_word = ('\\W'+word+'\\W')\n",
    "        word_topic_question = df[column.str.contains(regex_word, regex=True)]\n",
    "        wordlist_questions [word] = word_topic_question\n",
    "        word_list_count [word] = word_topic_question[column_name].count()\n",
    "    return word_list_count, wordlist_questions, "
   ]
  },
  {
   "cell_type": "code",
   "execution_count": 16,
   "metadata": {},
   "outputs": [
    {
     "name": "stdout",
     "output_type": "stream",
     "text": [
      "{'land': 784, 'ocean': 300, 'sea': 988, 'plain': 129}\n"
     ]
    }
   ],
   "source": [
    "#test the function to find questions about topics with terrains.\n",
    "terrain_list = [\"land\", 'Ocean', 'Sea', 'plain']\n",
    "terrain_questions_count, terrain_questions= words_list_counter(jeopardy, 'question_no_link', terrain_list)\n",
    "print(terrain_questions_count)"
   ]
  },
  {
   "cell_type": "markdown",
   "metadata": {},
   "source": [
    "4. We may want to eventually compute aggregate statistics, like `.mean()` on the `\" Value\"` column. But right now, the values in that column are strings. Convert the`\" Value\"` column to floats. If you'd like to, you can create a new column with float values.\n",
    "\n",
    "   Now that you can filter the dataset of question, use your new column that contains the float values of each question to find the \"difficulty\" of certain topics. For example, what is the average value of questions that contain the word `\"King\"`?\n",
    "   \n",
    "   Make sure to use the dataset that contains the float values as the dataset you use in your filtering function."
   ]
  },
  {
   "cell_type": "code",
   "execution_count": 17,
   "metadata": {},
   "outputs": [],
   "source": [
    "#convert all the final jeopardy questions to a value of 0 so that I can convert the value column to float\n",
    "final_jeopardy_no_val = jeopardy[jeopardy['dollar_value']=='']\n",
    "no_val_indx = (jeopardy.index.values[jeopardy['dollar_value']==''])\n",
    "jeopardy_temp = jeopardy.copy()\n",
    "for indx in no_val_indx:\n",
    "    jeopardy_temp.loc[indx, 'dollar_value'] = 0\n",
    "jeopardy['dollar_value'] = jeopardy_temp['dollar_value'].astype(float)"
   ]
  },
  {
   "attachments": {},
   "cell_type": "markdown",
   "metadata": {},
   "source": [
    "Average values for questions:"
   ]
  },
  {
   "cell_type": "code",
   "execution_count": 18,
   "metadata": {},
   "outputs": [
    {
     "name": "stdout",
     "output_type": "stream",
     "text": [
      "740.25\n"
     ]
    }
   ],
   "source": [
    "#average value of all questions:\n",
    "avg_value = (jeopardy['dollar_value'].mean().round(2))\n",
    "print(avg_value)"
   ]
  },
  {
   "cell_type": "code",
   "execution_count": 19,
   "metadata": {},
   "outputs": [
    {
     "name": "stdout",
     "output_type": "stream",
     "text": [
      "game_round\n",
      "Double Jeopardy    1017.47\n",
      "Jeopardy            491.78\n",
      "Name: dollar_value, dtype: float64\n"
     ]
    }
   ],
   "source": [
    "# average value of questions by jeopardy round - Tiebreaker and Final Jeopardy rounds do not have values listed\n",
    "avg_round_value = lambda x: x[x['game_round'].isin(['Double Jeopardy', 'Jeopardy'])].groupby('game_round').dollar_value.mean().round(2)\n",
    "print(avg_round_value(jeopardy))"
   ]
  },
  {
   "cell_type": "markdown",
   "metadata": {},
   "source": [
    "5. Write a function that returns the count of unique answers to all of the questions in a dataset. For example, after filtering the entire dataset to only questions containing the word `\"King\"`, we could then find all of the unique answers to those questions. The answer \"Henry VIII\" appeared 55 times and was the most common answer."
   ]
  },
  {
   "cell_type": "code",
   "execution_count": 20,
   "metadata": {},
   "outputs": [],
   "source": [
    "def unique_high_freq_answers (df,answers_column, frequency_threshold):\n",
    "    answers_counts = pd.DataFrame(df[answers_column].value_counts())\n",
    "    answers_counts.reset_index(inplace=True)\n",
    "    answers_counts = answers_counts.rename(columns={'index': 'answer', 'answer_words': 'answer_freq'})\n",
    "    high_freq_ans = answers_counts[answers_counts['answer_freq']>= frequency_threshold]\n",
    "    return high_freq_ans"
   ]
  },
  {
   "cell_type": "code",
   "execution_count": 21,
   "metadata": {},
   "outputs": [
    {
     "name": "stdout",
     "output_type": "stream",
     "text": [
      "        answer  answer_freq\n",
      "0    australia          213\n",
      "1        china          213\n",
      "2        japan          194\n",
      "3      chicago          194\n",
      "4       france          189\n",
      "5        india          185\n",
      "6   california          179\n",
      "7       canada          173\n",
      "8        spain          168\n",
      "9       mexico          163\n",
      "10      alaska          160\n",
      "11       italy          159\n",
      "12      hawaii          157\n",
      "13       texas          152\n"
     ]
    }
   ],
   "source": [
    "jeopardy_unique_answers = (unique_high_freq_answers(jeopardy, 'answer_words', 150))\n",
    "print(jeopardy_unique_answers.head(20))"
   ]
  },
  {
   "cell_type": "code",
   "execution_count": 24,
   "metadata": {},
   "outputs": [
    {
     "data": {
      "text/plain": [
       "Index(['show_number', 'air_date', 'game_round', 'category', 'dollar_value',\n",
       "       'question', 'answer', 'category_words', 'link_url', 'question_no_link',\n",
       "       'answer_words'],\n",
       "      dtype='object')"
      ]
     },
     "execution_count": 24,
     "metadata": {},
     "output_type": "execute_result"
    }
   ],
   "source": [
    "jeopardy.columns"
   ]
  },
  {
   "cell_type": "code",
   "execution_count": 92,
   "metadata": {},
   "outputs": [],
   "source": [
    "class String_in_column_freq:\n",
    "    df = jeopardy.copy().drop('link_url', axis = 1)\n",
    "\n",
    "    def __init__(self, filter_column, target_column, topic_strings, freq_threshold) -> None:\n",
    "        self.filter_name = filter_column\n",
    "        self.target_name = target_column\n",
    "        self.column = String_in_column_freq.df[target_column]\n",
    "        self.filter = String_in_column_freq.df[filter_column]\n",
    "        self.topics = topic_strings\n",
    "        self.freq_threshold = freq_threshold\n",
    "        self.filter_column_inc_topic = {}\n",
    "        self.filter_column_topic_count = {}\n",
    "        self.target_topic_above_freq_threshold = {}\n",
    "    \n",
    "    def show(self):\n",
    "        topics_as_string = \", \".join(map(str, self.topics))\n",
    "        print('Within the jeopardy dataframe we are looking at the frequency with which strings occur in a column')\n",
    "        print('This class allows us to find all rows of the dataframe where we values frome a list of topics ('+ topics_as_string + ') in the filter column of: ' + self.filter_name)\n",
    "        print('It then counts the frequency of values in '+ self.target_name+ ' that occur more frequently than the threshold value of ' + str(self.freq_threshold))\n",
    "        print('The target column is: '+ self.target_name)\n",
    "        print('The strings are: '+ topics_as_string)\n",
    "        print('The filter column is: '+ self.filter_name)\n",
    "        print('The frequency threshold for target column values is: '+ str(self.freq_threshold))\n",
    "        print('To access the frequency with which our topics show up in the filter column, call topic filter and access self.filter_column topic count')\n",
    "        print('To access the frequency of values in the target column associated with the filter topics, call high_frequency_targets and access self.target_topic_above_freq_threshold')\n",
    "\n",
    "    def topic_filter(self):\n",
    "        for topic in self.topics:\n",
    "            topic = topic.lower()\n",
    "            #in case topic is one word that can be part of compound words, this regex will limit it to just the word\n",
    "            regex_topic = ('\\W'+topic+'\\W')\n",
    "            topic_in_filter = String_in_column_freq.df[self.filter.str.contains(regex_topic, regex=True)]\n",
    "            self.filter_column_inc_topic [topic] = topic_in_filter\n",
    "            self.filter_column_topic_count [topic] = topic_in_filter[self.filter_name].count()\n",
    "        return self.filter_column_inc_topic, self.filter_column_topic_count\n",
    "    \n",
    "    def high_frequency_targets (self):\n",
    "        for key, value in self.filter_column_inc_topic.items():\n",
    "            target_counts = pd.DataFrame(value[self.target_name].value_counts())\n",
    "            target_counts.reset_index(inplace=True)\n",
    "            target_counts = target_counts.rename(columns={'index': 'target', self.target_name: 'target_freq'})\n",
    "            target_count_above_freq_threshold = target_counts[target_counts['target_freq']>=self.freq_threshold]\n",
    "            self.target_topic_above_freq_threshold[key] = target_count_above_freq_threshold\n",
    "    \n",
    "    def topic_freq_report (self):\n",
    "        print()"
   ]
  },
  {
   "cell_type": "code",
   "execution_count": 93,
   "metadata": {},
   "outputs": [
    {
     "name": "stdout",
     "output_type": "stream",
     "text": [
      "Within the jeopardy dataframe we are looking at the frequency with which strings occur in a column\n",
      "This class allows us to find all rows of the dataframe where we values frome a list of topics (King, Queen) in the filter column of: question_no_link\n",
      "It then counts the frequency of values in answer_words that occur more frequently than the threshold value of 10\n",
      "The target column is: answer_words\n",
      "The strings are: King, Queen\n",
      "The filter column is: question_no_link\n",
      "The frequency threshold for target column values is: 10\n",
      "To access the frequency with which our topics show up in the filter column, call topic filter and access self.filter_column topic count\n",
      "To access the frequency of values in the target column associated with the filter topics, call high_frequency_targets and access self.target_topic_above_freq_threshold\n",
      "None\n",
      "{'king':                      target  target_freq\n",
      "0                henry viii           35\n",
      "1               richard iii           23\n",
      "2                   solomon           21\n",
      "3                 louis xiv           19\n",
      "4                     david           19\n",
      "5                    norway           18\n",
      "6                    sweden           18\n",
      "7                   belgium           15\n",
      "8                 charles i           15\n",
      "9               charlemagne           14\n",
      "10                   france           14\n",
      "11                louis xvi           14\n",
      "12                  denmark           13\n",
      "13                 portugal           13\n",
      "14                     saul           12\n",
      "15                  james i           11\n",
      "16                  macbeth           11\n",
      "17  richard the lionhearted           11\n",
      "18               george iii           11\n",
      "19           nebuchadnezzar           11\n",
      "20      alexander the great           10\n",
      "21      frederick the great           10\n",
      "22             king hussein           10, 'queen':                 target  target_freq\n",
      "0            cleopatra           28\n",
      "1     marie antoinette           19\n",
      "2  mary queen of scots           16\n",
      "3             victoria           14\n",
      "4          elizabeth i           14\n",
      "5             isabella           10}\n"
     ]
    }
   ],
   "source": [
    "jeopardy_royalty_topics = ['King', 'Queen']\n",
    "royalty = String_in_column_freq(filter_column='question_no_link',\n",
    "                                target_column= 'answer_words', \n",
    "                                topic_strings=jeopardy_royalty_topics,\n",
    "                                freq_threshold= 10)\n",
    "#print(royalty.df.head(10))\n",
    "#print(royalty.topics)\n",
    "royalty.topic_filter()\n",
    "print(royalty.show())\n",
    "royalty.high_frequency_targets()\n",
    "print(royalty.target_topic_above_freq_threshold)"
   ]
  },
  {
   "cell_type": "markdown",
   "metadata": {},
   "source": [
    "6. Explore from here! This is an incredibly rich dataset, and there are so many interesting things to discover. There are a few columns that we haven't even started looking at yet. Here are some ideas on ways to continue working with this data:\n",
    "\n",
    " * Investigate the ways in which questions change over time by filtering by the date. How many questions from the 90s use the word `\"Computer\"` compared to questions from the 2000s?\n",
    " * Is there a connection between the round and the category? Are you more likely to find certain categories, like `\"Literature\"` in Single Jeopardy or Double Jeopardy?\n",
    " * Build a system to quiz yourself. Grab random questions, and use the <a href=\"https://docs.python.org/3/library/functions.html#input\">input</a> function to get a response from the user. Check to see if that response was right or wrong."
   ]
  },
  {
   "cell_type": "code",
   "execution_count": null,
   "metadata": {},
   "outputs": [],
   "source": []
  },
  {
   "cell_type": "markdown",
   "metadata": {},
   "source": [
    "## Solution"
   ]
  },
  {
   "cell_type": "markdown",
   "metadata": {},
   "source": [
    "7. Compare your program to our <a href=\"https://content.codecademy.com/PRO/independent-practice-projects/jeopardy/jeopardy_solution.zip\">sample solution code</a> - remember, that your program might look different from ours (and probably will) and that's okay!"
   ]
  },
  {
   "cell_type": "markdown",
   "metadata": {},
   "source": [
    "8. Great work! Visit <a href=\"https://discuss.codecademy.com/t/this-is-jeopardy-challenge-project-python-pandas/462365\">our forums</a> to compare your project to our sample solution code. You can also learn how to host your own solution on GitHub so you can share it with other learners! Your solution might look different from ours, and that's okay! There are multiple ways to solve these projects, and you'll learn more by seeing others' code."
   ]
  },
  {
   "cell_type": "code",
   "execution_count": null,
   "metadata": {},
   "outputs": [],
   "source": []
  }
 ],
 "metadata": {
  "kernelspec": {
   "display_name": "Python 3",
   "language": "python",
   "name": "python3"
  },
  "language_info": {
   "codemirror_mode": {
    "name": "ipython",
    "version": 3
   },
   "file_extension": ".py",
   "mimetype": "text/x-python",
   "name": "python",
   "nbconvert_exporter": "python",
   "pygments_lexer": "ipython3",
   "version": "3.10.6"
  },
  "vscode": {
   "interpreter": {
    "hash": "916dbcbb3f70747c44a77c7bcd40155683ae19c65e1c03b4aa3499c5328201f1"
   }
  }
 },
 "nbformat": 4,
 "nbformat_minor": 2
}
