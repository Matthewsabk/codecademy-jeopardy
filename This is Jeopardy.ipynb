{
 "cells": [
  {
   "cell_type": "markdown",
   "metadata": {},
   "source": [
    "# This is Jeopardy!"
   ]
  },
  {
   "cell_type": "markdown",
   "metadata": {},
   "source": [
    "#### Overview"
   ]
  },
  {
   "cell_type": "markdown",
   "metadata": {},
   "source": [
    "This project is slightly different than others you have encountered thus far. Instead of a step-by-step tutorial, this project contains a series of open-ended requirements which describe the project you'll be building. There are many possible ways to correctly fulfill all of these requirements, and you should expect to use the internet, Codecademy, and/or other resources when you encounter a problem that you cannot easily solve."
   ]
  },
  {
   "cell_type": "markdown",
   "metadata": {},
   "source": [
    "#### Project Goals"
   ]
  },
  {
   "cell_type": "markdown",
   "metadata": {},
   "source": [
    "You will work to write several functions that investigate a dataset of _Jeopardy!_ questions and answers. Filter the dataset for topics that you're interested in, compute the average difficulty of those questions, and train to become the next Jeopardy champion!"
   ]
  },
  {
   "cell_type": "markdown",
   "metadata": {},
   "source": [
    "## Prerequisites"
   ]
  },
  {
   "cell_type": "markdown",
   "metadata": {},
   "source": [
    "In order to complete this project, you should have completed the Pandas lessons in the <a href=\"https://www.codecademy.com/learn/paths/analyze-data-with-python\">Analyze Data with Python Skill Path</a>. You can also find those lessons in the <a href=\"https://www.codecademy.com/learn/data-processing-pandas\">Data Analysis with Pandas course</a> or the <a href=\"https://www.codecademy.com/learn/paths/data-science/\">Data Scientist Career Path</a>.\n",
    "\n",
    "Finally, the <a href=\"https://www.codecademy.com/learn/practical-data-cleaning\">Practical Data Cleaning</a> course may also be helpful."
   ]
  },
  {
   "cell_type": "markdown",
   "metadata": {},
   "source": [
    "## Project Requirements"
   ]
  },
  {
   "cell_type": "markdown",
   "metadata": {},
   "source": [
    "1. We've provided a csv file containing data about the game show _Jeopardy!_ in a file named `jeopardy.csv`. Load the data into a DataFrame and investigate its contents. Try to print out specific columns.\n",
    "\n",
    "   Note that in order to make this project as \"real-world\" as possible, we haven't modified the data at all - we're giving it to you exactly how we found it. As a result, this data isn't as \"clean\" as the datasets you normally find on Codecademy. More specifically, there's something odd about the column names. After you figure out the problem with the column names, you may want to rename them to make your life easier for the rest of the project.\n",
    "   \n",
    "   In order to display the full contents of a column, we've added this line of code for you:\n",
    "   \n",
    "   ```py\n",
    "   pd.set_option('display.max_colwidth', None)\n",
    "   ```"
   ]
  },
  {
   "cell_type": "code",
   "execution_count": 1,
   "metadata": {},
   "outputs": [],
   "source": [
    "import pandas as pd\n",
    "import re\n",
    "from bs4 import BeautifulSoup, Tag, NavigableString\n",
    "import numpy as np\n",
    "pd.set_option('display.max_colwidth', None)\n",
    "pd.set_option('display.max_rows', None)\n",
    "jeopardy = pd.read_csv(\"jeopardy.csv\")\n",
    "#rename the columns with useable names - remove whitespace, use lower case, change round and value to non-reserved names\n",
    "jeopardy = jeopardy.rename(columns = {'Show Number':'show_number', ' Air Date':'air_date', ' Round':'game_round', ' Category':'category', ' Value': 'dollar_value',' Question':'question', ' Answer':'answer'})"
   ]
  },
  {
   "cell_type": "code",
   "execution_count": 2,
   "metadata": {},
   "outputs": [],
   "source": [
    "#Check for duplicate questions & filter to unique questions\n",
    "duplicates = jeopardy.duplicated().any()\n",
    "#print(duplicates)\n",
    "#no full rows are duplicated, but individual questions are:\n",
    "duplicate_questions = jeopardy.question.duplicated().any()\n",
    "#print(duplicate_questions)\n",
    "#Remove lines containing filler questions,missing audio/video clues, There are several questions that contain [video clue], [audio clue], or [filler], remove those\n",
    "odd_questions = jeopardy[jeopardy.question.str.contains('\\[')]\n",
    "bad_questions = ['[audio clue]', '[video clue]', '[filler]']\n",
    "filter_questions = jeopardy[jeopardy.question.isin(bad_questions)]\n",
    "jeopardy = pd.concat([jeopardy, filter_questions]).drop_duplicates(keep = False)\n",
    "# Drop any remaining duplicate questions\n",
    "jeopardy = jeopardy.drop_duplicates('question')\n",
    "duplicate_questions = jeopardy.question.duplicated().any()\n",
    "#print(duplicate_questions)\n"
   ]
  },
  {
   "cell_type": "code",
   "execution_count": 3,
   "metadata": {},
   "outputs": [
    {
     "name": "stdout",
     "output_type": "stream",
     "text": [
      "show_number     216121\n",
      "air_date        216121\n",
      "game_round      216121\n",
      "category        216121\n",
      "dollar_value    216121\n",
      "question        216121\n",
      "answer          216121\n",
      "dtype: int64\n"
     ]
    }
   ],
   "source": [
    "#print(jeopardy.count())\n",
    "#There are still two fewer answers than questions.\n",
    "#print(jeopardy[jeopardy.answer.isnull()])\n",
    "#Funny. The answer to the question is 'null' so it got pulled in as a Null value. Let's see if we can fix that.\n",
    "jeopardy.at[94817, 'answer'] = 'null'\n",
    "jeopardy.at[143297, 'answer'] = 'null'\n",
    "print(jeopardy.count())"
   ]
  },
  {
   "cell_type": "code",
   "execution_count": 4,
   "metadata": {},
   "outputs": [
    {
     "name": "stdout",
     "output_type": "stream",
     "text": [
      "['Jeopardy!' 'Double Jeopardy!' 'Final Jeopardy!' 'Tiebreaker']\n",
      "['Jeopardy' 'Double Jeopardy' 'Final Jeopardy' 'Tiebreaker']\n"
     ]
    }
   ],
   "source": [
    "#Remove punctuation from game rounds\n",
    "print(jeopardy.game_round.unique())\n",
    "jeopardy['game_round'] = jeopardy.game_round.apply(lambda x: x.replace('!', ''))\n",
    "print(jeopardy.game_round.unique())"
   ]
  },
  {
   "cell_type": "code",
   "execution_count": 5,
   "metadata": {},
   "outputs": [
    {
     "name": "stdout",
     "output_type": "stream",
     "text": [
      "216121\n",
      "27992\n"
     ]
    }
   ],
   "source": [
    "#Categories probably need some clean-up\n",
    "print(jeopardy.category.count())\n",
    "print(jeopardy.category.nunique())\n",
    "jeopardy['category'] = jeopardy.category.apply(lambda x: x.strip())\n",
    "#replace the category that's just an ! mark with the words 'exclamation mark [altered]'\n",
    "jeopardy['category_words']= jeopardy['category']\n",
    "jeopardy['category_words'] = jeopardy.category.apply(lambda x: x.lower())\n",
    "exclaim_ind = jeopardy.index[jeopardy.category_words =='\"!\"'].to_list()\n",
    "for idx in exclaim_ind:\n",
    "    jeopardy.at[idx, 'category_words'] = 'exclamation mark [altered]'\n",
    "#Remove the special characters and just let the words exist in a new column\n",
    "def replace_in_column (column, **kwargs):\n",
    "    for key, value in kwargs.items():\n",
    "        altered_col = column.str.replace(key, value, regex = True)\n",
    "    return altered_col\n",
    "replace_punctuation = {'&': 'and','-': ' ', '_*': '(blank)', '[^\\w\\s]':''}\n",
    "jeopardy['category_words'] = replace_in_column(jeopardy['category_words'],**replace_punctuation)\n"
   ]
  },
  {
   "cell_type": "code",
   "execution_count": 41,
   "metadata": {},
   "outputs": [
    {
     "name": "stdout",
     "output_type": "stream",
     "text": [
      "0                                                        []\n",
      "1                                                        []\n",
      "2                                                        []\n",
      "3                                                        []\n",
      "4                                                        []\n",
      "5                                                        []\n",
      "6                                                        []\n",
      "7                                                        []\n",
      "8                                                        []\n",
      "9                                                        []\n",
      "10                                                       []\n",
      "11                                                       []\n",
      "12                                                       []\n",
      "13                                                       []\n",
      "14                                                       []\n",
      "15                                                       []\n",
      "16                                                       []\n",
      "17                                                       []\n",
      "18                                                       []\n",
      "19                                                       []\n",
      "20                                                       []\n",
      "21                                                       []\n",
      "22                                                       []\n",
      "23                                                       []\n",
      "24                                                       []\n",
      "25                                                       []\n",
      "26                                                       []\n",
      "27                                                       []\n",
      "28                                                       []\n",
      "29    [http://www.j-archive.com/media/2004-12-31_DJ_23.mp3]\n",
      "30                                                       []\n",
      "31                                                       []\n",
      "32                                                       []\n",
      "33                                                       []\n",
      "34                                                       []\n",
      "35                                                       []\n",
      "36                                                       []\n",
      "37                                                       []\n",
      "38                                                       []\n",
      "39    [http://www.j-archive.com/media/2004-12-31_DJ_12.jpg]\n",
      "40    [http://www.j-archive.com/media/2004-12-31_DJ_26.mp3]\n",
      "41                                                       []\n",
      "42                                                       []\n",
      "43                                                       []\n",
      "44                                                       []\n",
      "45    [http://www.j-archive.com/media/2004-12-31_DJ_25.mp3]\n",
      "46                                                       []\n",
      "47                                                       []\n",
      "48                                                       []\n",
      "49                                                       []\n",
      "Name: links, dtype: object\n"
     ]
    }
   ],
   "source": [
    "#Clean up questions in the same way\n",
    "#create a link column from the links in text string in a pandas column\n",
    "def link_finder (column):\n",
    "       soup = BeautifulSoup(column, 'html.parser')\n",
    "       links = soup.findAll('a', href = True)\n",
    "       urls = []\n",
    "       link_texts = []\n",
    "       if links != []:\n",
    "              for link in links:\n",
    "                     url = link['href']\n",
    "                     urls.append(url)\n",
    "       return urls\n",
    "jeopardy['links'] = jeopardy.question.apply(link_finder)\n",
    "print(jeopardy.links.head(50))"
   ]
  },
  {
   "cell_type": "code",
   "execution_count": 44,
   "metadata": {},
   "outputs": [
    {
     "name": "stdout",
     "output_type": "stream",
     "text": [
      "0                                                                                       For the last 8 years of his life, Galileo was under house arrest for espousing this man's theory\n",
      "1                                                                            No. 2: 1912 Olympian; football star at Carlisle Indian School; 6 MLB seasons with the Reds, Giants & Braves\n",
      "2                                                                                               The city of Yuma in this state has a record average of 4,055 hours of sunshine each year\n",
      "3                                                                                                   In 1963, live on \"The Art Linkletter Show\", this company served its billionth burger\n",
      "4                                                                               Signer of the Dec. of Indep., framer of the Constitution of Mass., second President of the United States\n",
      "5                                                                                                          In the title of an Aesop fable, this insect shared billing with a grasshopper\n",
      "6                                                                                                           Built in 312 B.C. to link Rome & the South of Italy, it's still in use today\n",
      "7                                                                                                                 No. 8: 30 steals for the Birmingham Barons; 2,306 steals for the Bulls\n",
      "8                                                                          In the winter of 1971-72, a record 1,122 inches of snow fell at Rainier Paradise Ranger Station in this state\n",
      "9                                                                                     This housewares store was named for the packaging its merchandise came in & was first displayed on\n",
      "10                                                                                                                                                                      \"And away we go\"\n",
      "11                                                                                                             Cows regurgitate this from the first stomach to the mouth & chew it again\n",
      "12                                                                                       In 1000 Rajaraja I of the Cholas battled to take this Indian Ocean island now known for its tea\n",
      "13                                                                No. 1: Lettered in hoops, football & lacrosse at Syracuse & if you think he couldn't act, ask his 11 \"unclean\" buddies\n",
      "14                                                                   On June 28, 1994 the nat'l weather service began issuing this index that rates the intensity of the sun's radiation\n",
      "15                                                                          This company's Accutron watch, introduced in 1960, had a guarantee of accuracy to within one minute a  month\n",
      "16                                                                                                  Outlaw: \"Murdered by a traitor and a coward whose name is not worthy to appear here\"\n",
      "17                                                                                                                  A small demon, or a mischievous child (who might be a little demon!)\n",
      "18                                                                                              Karl led the first of these Marxist organizational efforts; the second one began in 1889\n",
      "19                                                                                   No. 10: FB/LB for Columbia U. in the 1920s; MVP for the Yankees in '27 & '36; \"Gibraltar in Cleats\"\n",
      "20                                                                            Africa's lowest temperature was 11 degrees below zero in 1935 at Ifrane, just south of Fez in this country\n",
      "21                                                                                                             Edward Teller & this man partnered in 1898 to sell high fashions to women\n",
      "22                                                                                                  1939 Oscar winner: \"...you are a credit to your craft, your race and to your family\"\n",
      "23                                                                                  In geologic time one of these, shorter than an eon, is divided into periods & subdivided into epochs\n",
      "24                                                                                             This Asian political party was founded in 1885 with \"Indian National\" as part of its name\n",
      "25                                                                               No. 5: Only center to lead the NBA in assists; track scholarship to Kansas U.; marathoner; volleyballer\n",
      "26                                                                               The Kirschner brothers, Don & Bill, named this ski company for themselves & the second-highest mountain\n",
      "27                                                                                                                                Revolutionary War hero: \"His spirit is in Vermont now\"\n",
      "28                                                                                                                         A single layer of paper, or to perform one's craft diligently\n",
      "29                                                                             Beyond ovoid abandonment, beyond ovoid betrayal... you won't believe the ending when he \"Hatches the Egg\"\n",
      "30                                                                                                                                                                            California\n",
      "31                                                                     It can be a place to leave your puppy when you take a trip, or a carrier for him that fits under an airplane seat\n",
      "32                                                                      He's considered the author of the Pentateuch, which is hard to believe, as Deuteronomy continues after his death\n",
      "33                                                                      Steven Tyler of this band lent his steamin' vocals to \"Train Kept A-Rollin'\", first popularized by the Yardbirds\n",
      "34                                                                                 Around 100 A.D. Tacitus wrote a book on how this art of persuasive speaking had declined since Cicero\n",
      "35                                                                                                                                                            1 of the 2 born in Vermont\n",
      "36                                                            When it began on Pan Am & Qantas in the late '70s, it was basically a roped-off part of the economy cabin with free drinks\n",
      "37                                                                                   Ali, who married this man's daughter Fatima, is considered by Shia Muslims to be his true successor\n",
      "38                                                                                             During the 1954-1955 Sun sessions, Elvis climbed aboard this train \"sixteen coaches long\"\n",
      "39                                                                                                           The shorter glass seen here, or a quaint cocktail made with sugar & bitters\n",
      "40                                                                       Ripped from today's headlines, he was a turtle king gone mad; Mack was the one good turtle who'd bring him down\n",
      "41                                                                                                             In 2003 this airline agreed to buy KLM, creating Europe's largest airline\n",
      "42                                                                                    Philadelphia got its start as a colony for this religious group of which William Penn was a member\n",
      "43                                                                                                 This \"Modern Girl\" first hit the Billboard Top 10 with \"Morning Train (Nine To Five)\"\n",
      "44                                                                                              This stiff silken fabric is favored for bridal gowns, like Christina Applegate's in 2001\n",
      "45    <a href=\"http://www.j-archive.com/media/2004-12-31_DJ_25.mp3\">Somewhere between truth & fiction lies Marco's reality... on Halloween, you won't believe you saw it on this St.</a>\n",
      "46                                                                                               In 2004 United launched this new service that features low fares & more seats per plane\n",
      "47                                                                               With Mary I's accession in 1553 he ran to Geneva; he returned in 1559 & reformed the Church of Scotland\n",
      "48                                                                                            This band's \"Train In Vain\" was a hidden track on its original 1979 \"London Calling\" album\n",
      "49                                                                   Cross-country skiing is sometimes referred to by these 2 letters, the same ones used to denote 90 in Roman numerals\n",
      "Name: question_no_link, dtype: object\n"
     ]
    }
   ],
   "source": [
    "#Replace the a href in the question with the link text. \n",
    "def link_remover (column):\n",
    "       soup = BeautifulSoup(column, 'html.parser')\n",
    "       links = soup.findAll('a', href = True)\n",
    "       urls = []\n",
    "       link_texts = []\n",
    "       if links != []:\n",
    "              for link in links:\n",
    "                     link_text=link.text\n",
    "                     column= column.replace(str(link), link_text)\n",
    "       return column\n",
    "jeopardy['question_no_link'] = jeopardy.question.apply(link_remover)\n",
    "print(jeopardy.question_no_link.head(50))"
   ]
  },
  {
   "attachments": {},
   "cell_type": "markdown",
   "metadata": {},
   "source": [
    "Interesting note. On trying to remove the whitespace from the individual rows of the questions, I learned that the whitespace exists because of the variable lengths of strings. Pandas needs to keep each row the same space so assigns strings as objects in the dataframe and adds white space. As I need to do things to the strings I can transform them from objects to strings."
   ]
  },
  {
   "cell_type": "code",
   "execution_count": null,
   "metadata": {},
   "outputs": [],
   "source": []
  },
  {
   "cell_type": "code",
   "execution_count": null,
   "metadata": {},
   "outputs": [],
   "source": [
    "def find_url (column):\n",
    "    column_txt = str(column )"
   ]
  },
  {
   "cell_type": "code",
   "execution_count": null,
   "metadata": {},
   "outputs": [],
   "source": [
    "print(jeopardy.question.apply(link_finder).head(50))"
   ]
  },
  {
   "cell_type": "markdown",
   "metadata": {},
   "source": [
    "2. Write a function that filters the dataset for questions that contains all of the words in a list of words. For example, when the list `[\"King\", \"England\"]` was passed to our function, the function returned a DataFrame of 49 rows. Every row had the strings `\"King\"` and `\"England\"` somewhere in its `\" Question\"`.\n",
    "\n",
    "   Test your function by printing out the column containing the question of each row of the dataset."
   ]
  },
  {
   "cell_type": "code",
   "execution_count": null,
   "metadata": {},
   "outputs": [],
   "source": [
    "#function to find words from a words list in a dataframe column, count them, and return dictionaris of the word:count, and the word:column-rows. \n",
    "def words_list_counter (column, words_list):\n",
    "    wordlist_questions = {}\n",
    "    word_list_count = {}\n",
    "    for word in words_list:\n",
    "        count = column[column.str.contains(word)].count()\n",
    "        word_questions = column[column.str.contains(word)].reset_index(drop=True)\n",
    "        word_list_count[word]=count\n",
    "        wordlist_questions [word] = word_questions\n",
    "    return word_list_count, wordlist_questions\n"
   ]
  },
  {
   "cell_type": "code",
   "execution_count": null,
   "metadata": {},
   "outputs": [],
   "source": [
    "#find the questions that include a US state\n",
    "state_list = [\"Alaska\", \"Alabama\", \"Arkansas\", \"Arizona\", \"California\", \"Colorado\", \"Connecticut\", \"Delaware\", \"Florida\", \"Georgia\", \"Hawaii\", \"Iowa\", \"Idaho\", \"Illinois\", \"Indiana\", \"Kansas\", \"Kentucky\", \"Louisiana\", \"Massachusetts\", \"Maryland\", \"Maine\", \"Michigan\", \"Minnesota\", \"Missouri\", \"Mississippi\", \"Montana\", \"North Carolina\", \"North Dakota\", \"Nebraska\", \"New Hampshire\", \"New Jersey\", \"New Mexico\", \"Nevada\", \"New York\", \"Ohio\", \"Oklahoma\", \"Oregon\", \"Pennsylvania\", \"Rhode Island\", \"South Carolina\", \"South Dakota\", \"Tennessee\", \"Texas\", \"Utah\", \"Virginia\", \"Vermont\", \"Washington\", \"Wisconsin\", \"West Virginia\", \"Wyoming\"]\n",
    "states_questions_count, states_questions = words_list_counter(jeopardy['question'], state_list)\n",
    "print (states_questions_count)\n",
    "print(states_questions)"
   ]
  },
  {
   "cell_type": "markdown",
   "metadata": {},
   "source": [
    "3. Test your original function with a few different sets of words to try to find some ways your function breaks. Edit your function so it is more robust.\n",
    "\n",
    "   For example, think about capitalization. We probably want to find questions that contain the word `\"King\"` or `\"king\"`.\n",
    "   \n",
    "   You may also want to check to make sure you don't find rows that contain substrings of your given words. For example, our function found a question that didn't contain the word `\"king\"`, however it did contain the word `\"viking\"` &mdash; it found the `\"king\"` inside `\"viking\"`. Note that this also comes with some drawbacks &mdash; you would no longer find questions that contained words like `\"England's\"`."
   ]
  },
  {
   "cell_type": "code",
   "execution_count": null,
   "metadata": {},
   "outputs": [],
   "source": [
    "#test the function to find questions about topics with terrains.\n",
    "terrain_list = [\"land\", \"sea\", \"ocean\", \"mountain\", \"forest\", \"plains\", \"grassland\", \"savannah\", \"tundra\", \"canyon\", \"dessert\", \"marsh\", \"swamp\"]\n",
    "terrain_questions_count, terrain_questions = words_list_counter(jeopardy['question'], terrain_list)\n",
    "print(terrain_questions_count)\n",
    "print(terrain_questions)"
   ]
  },
  {
   "cell_type": "markdown",
   "metadata": {},
   "source": [
    "4. We may want to eventually compute aggregate statistics, like `.mean()` on the `\" Value\"` column. But right now, the values in that column are strings. Convert the`\" Value\"` column to floats. If you'd like to, you can create a new column with float values.\n",
    "\n",
    "   Now that you can filter the dataset of question, use your new column that contains the float values of each question to find the \"difficulty\" of certain topics. For example, what is the average value of questions that contain the word `\"King\"`?\n",
    "   \n",
    "   Make sure to use the dataset that contains the float values as the dataset you use in your filtering function."
   ]
  },
  {
   "cell_type": "code",
   "execution_count": null,
   "metadata": {},
   "outputs": [],
   "source": []
  },
  {
   "cell_type": "markdown",
   "metadata": {},
   "source": [
    "5. Write a function that returns the count of unique answers to all of the questions in a dataset. For example, after filtering the entire dataset to only questions containing the word `\"King\"`, we could then find all of the unique answers to those questions. The answer \"Henry VIII\" appeared 55 times and was the most common answer."
   ]
  },
  {
   "cell_type": "code",
   "execution_count": null,
   "metadata": {},
   "outputs": [],
   "source": []
  },
  {
   "cell_type": "markdown",
   "metadata": {},
   "source": [
    "6. Explore from here! This is an incredibly rich dataset, and there are so many interesting things to discover. There are a few columns that we haven't even started looking at yet. Here are some ideas on ways to continue working with this data:\n",
    "\n",
    " * Investigate the ways in which questions change over time by filtering by the date. How many questions from the 90s use the word `\"Computer\"` compared to questions from the 2000s?\n",
    " * Is there a connection between the round and the category? Are you more likely to find certain categories, like `\"Literature\"` in Single Jeopardy or Double Jeopardy?\n",
    " * Build a system to quiz yourself. Grab random questions, and use the <a href=\"https://docs.python.org/3/library/functions.html#input\">input</a> function to get a response from the user. Check to see if that response was right or wrong."
   ]
  },
  {
   "cell_type": "code",
   "execution_count": null,
   "metadata": {},
   "outputs": [],
   "source": []
  },
  {
   "cell_type": "markdown",
   "metadata": {},
   "source": [
    "## Solution"
   ]
  },
  {
   "cell_type": "markdown",
   "metadata": {},
   "source": [
    "7. Compare your program to our <a href=\"https://content.codecademy.com/PRO/independent-practice-projects/jeopardy/jeopardy_solution.zip\">sample solution code</a> - remember, that your program might look different from ours (and probably will) and that's okay!"
   ]
  },
  {
   "cell_type": "markdown",
   "metadata": {},
   "source": [
    "8. Great work! Visit <a href=\"https://discuss.codecademy.com/t/this-is-jeopardy-challenge-project-python-pandas/462365\">our forums</a> to compare your project to our sample solution code. You can also learn how to host your own solution on GitHub so you can share it with other learners! Your solution might look different from ours, and that's okay! There are multiple ways to solve these projects, and you'll learn more by seeing others' code."
   ]
  },
  {
   "cell_type": "code",
   "execution_count": null,
   "metadata": {},
   "outputs": [],
   "source": []
  }
 ],
 "metadata": {
  "kernelspec": {
   "display_name": "Python 3",
   "language": "python",
   "name": "python3"
  },
  "language_info": {
   "codemirror_mode": {
    "name": "ipython",
    "version": 3
   },
   "file_extension": ".py",
   "mimetype": "text/x-python",
   "name": "python",
   "nbconvert_exporter": "python",
   "pygments_lexer": "ipython3",
   "version": "3.10.6"
  },
  "vscode": {
   "interpreter": {
    "hash": "916dbcbb3f70747c44a77c7bcd40155683ae19c65e1c03b4aa3499c5328201f1"
   }
  }
 },
 "nbformat": 4,
 "nbformat_minor": 2
}
