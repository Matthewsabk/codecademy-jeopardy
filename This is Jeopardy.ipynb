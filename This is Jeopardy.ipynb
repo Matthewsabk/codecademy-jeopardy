{
 "cells": [
  {
   "cell_type": "markdown",
   "metadata": {},
   "source": [
    "# This is Jeopardy!"
   ]
  },
  {
   "cell_type": "markdown",
   "metadata": {},
   "source": [
    "#### Overview"
   ]
  },
  {
   "cell_type": "markdown",
   "metadata": {},
   "source": [
    "This project is slightly different than others you have encountered thus far. Instead of a step-by-step tutorial, this project contains a series of open-ended requirements which describe the project you'll be building. There are many possible ways to correctly fulfill all of these requirements, and you should expect to use the internet, Codecademy, and/or other resources when you encounter a problem that you cannot easily solve."
   ]
  },
  {
   "cell_type": "markdown",
   "metadata": {},
   "source": [
    "#### Project Goals"
   ]
  },
  {
   "cell_type": "markdown",
   "metadata": {},
   "source": [
    "You will work to write several functions that investigate a dataset of _Jeopardy!_ questions and answers. Filter the dataset for topics that you're interested in, compute the average difficulty of those questions, and train to become the next Jeopardy champion!"
   ]
  },
  {
   "cell_type": "markdown",
   "metadata": {},
   "source": [
    "## Prerequisites"
   ]
  },
  {
   "cell_type": "markdown",
   "metadata": {},
   "source": [
    "In order to complete this project, you should have completed the Pandas lessons in the <a href=\"https://www.codecademy.com/learn/paths/analyze-data-with-python\">Analyze Data with Python Skill Path</a>. You can also find those lessons in the <a href=\"https://www.codecademy.com/learn/data-processing-pandas\">Data Analysis with Pandas course</a> or the <a href=\"https://www.codecademy.com/learn/paths/data-science/\">Data Scientist Career Path</a>.\n",
    "\n",
    "Finally, the <a href=\"https://www.codecademy.com/learn/practical-data-cleaning\">Practical Data Cleaning</a> course may also be helpful."
   ]
  },
  {
   "cell_type": "markdown",
   "metadata": {},
   "source": [
    "## Project Requirements"
   ]
  },
  {
   "cell_type": "markdown",
   "metadata": {},
   "source": [
    "1. We've provided a csv file containing data about the game show _Jeopardy!_ in a file named `jeopardy.csv`. Load the data into a DataFrame and investigate its contents. Try to print out specific columns.\n",
    "\n",
    "   Note that in order to make this project as \"real-world\" as possible, we haven't modified the data at all - we're giving it to you exactly how we found it. As a result, this data isn't as \"clean\" as the datasets you normally find on Codecademy. More specifically, there's something odd about the column names. After you figure out the problem with the column names, you may want to rename them to make your life easier for the rest of the project.\n",
    "   \n",
    "   In order to display the full contents of a column, we've added this line of code for you:\n",
    "   \n",
    "   ```py\n",
    "   pd.set_option('display.max_colwidth', None)\n",
    "   ```"
   ]
  },
  {
   "attachments": {},
   "cell_type": "markdown",
   "metadata": {},
   "source": [
    "**Import libraries and set display options. Read in the original csv.**"
   ]
  },
  {
   "cell_type": "code",
   "execution_count": 226,
   "metadata": {},
   "outputs": [],
   "source": [
    "#Import libraries and set display options. Read in the original csv.\n",
    "import pandas as pd\n",
    "import re\n",
    "from bs4 import BeautifulSoup, Tag, NavigableString\n",
    "import numpy as np\n",
    "import pprint\n",
    "import textwrap\n",
    "import matplotlib.pyplot as plt\n",
    "\n",
    "pd.set_option('display.max_colwidth', None)\n",
    "pd.set_option('display.max_rows', None)\n",
    "jeopardy = pd.read_csv(\"jeopardy.csv\")"
   ]
  },
  {
   "attachments": {},
   "cell_type": "markdown",
   "metadata": {},
   "source": [
    "**Data cleaning:**\n",
    "* Strip whitespace from beginning/end of column names, remove spaces between column name words, and make column names all lower case\n",
    "* Make sure that all game rounds are lower case and without punctuation\n",
    "* Check for null fields in dataframe & remove or repair\n",
    "* Fix the two answers that are 'null'\n",
    "* Check the categories column, make it lower case & remove/replace punctuation\n",
    "* Find duplicated questions and remove duplicates\n",
    "* Find all video/audio/image questions that don't have an associated file link and remove them\n",
    "* Find all link based questions and create a new column for the links, then replace the links with link_text\n",
    "\n",
    "*Creating a link column where there are more than two links requires a list in the dataframe column. This makes analysis difficult as lists are mutable and so PANDAS does not deal well with them during larger operations. There are several ways to handle this. One is by dropping the column from the dataframe during operations that would be impacted. This is what I've chosen to use, but it could be more useful to simply not retain the link data.*"
   ]
  },
  {
   "cell_type": "code",
   "execution_count": 227,
   "metadata": {},
   "outputs": [],
   "source": [
    "#rename the columns with useable names - remove whitespace, use lower case, change round and value to non-reserved names\n",
    "jeopardy = jeopardy.rename(columns = {'Show Number':'show_number', ' Air Date':'air_date', ' Round':'game_round', ' Category':'category', ' Value': 'dollar_value',' Question':'question', ' Answer':'answer'})"
   ]
  },
  {
   "cell_type": "code",
   "execution_count": 228,
   "metadata": {},
   "outputs": [],
   "source": [
    "#Remove punctuation from game rounds\n",
    "#print(jeopardy.game_round.unique())\n",
    "jeopardy['game_round'] = jeopardy.game_round.apply(lambda x: x.replace('!', ''))\n",
    "#print(jeopardy.game_round.unique())"
   ]
  },
  {
   "cell_type": "code",
   "execution_count": 229,
   "metadata": {},
   "outputs": [],
   "source": [
    "#Categories - remove whitespace, create new column that's just the words from the category (for analysis) without punctuation, but replace '!' with 'exclamation mark [altered]'\n",
    "#print(jeopardy.category.count())\n",
    "#print(jeopardy.category.nunique())\n",
    "jeopardy['category'] = jeopardy.category.apply(lambda x: x.strip())\n",
    "jeopardy['category_words']= jeopardy['category']\n",
    "jeopardy['category_words'] = jeopardy.category.apply(lambda x: x.lower())\n",
    "exclaim_ind = jeopardy.index[jeopardy.category_words =='\"!\"'].to_list()\n",
    "for idx in exclaim_ind:\n",
    "    jeopardy.at[idx, 'category_words'] = \"exclamation mark [altered]\""
   ]
  },
  {
   "cell_type": "code",
   "execution_count": 230,
   "metadata": {},
   "outputs": [],
   "source": [
    "#Function to remove the special characters from a column and just let the words exist in a new column\n",
    "def replace_in_column (column, **kwargs):\n",
    "    for key, value in kwargs.items():\n",
    "        altered_col = column.str.replace(key, value, regex = True)\n",
    "    return altered_col\n",
    "replace_punctuation = {'&': 'and','-':'\\ ', '_*': '(blank)', '[^\\w\\s]':''}\n",
    "jeopardy['category_words'] = replace_in_column(jeopardy['category_words'],**replace_punctuation)"
   ]
  },
  {
   "cell_type": "code",
   "execution_count": 231,
   "metadata": {},
   "outputs": [],
   "source": [
    "#Function to create a link column from the links in text string in a new column\n",
    "def link_finder (column):\n",
    "       soup = BeautifulSoup(column, 'html.parser')\n",
    "       links = soup.findAll('a', href = True)\n",
    "       urls = []\n",
    "       if links != []:\n",
    "            for link in links:\n",
    "                     url = link['href']\n",
    "                     urls.append(url)\n",
    "       else:\n",
    "            urls.append(\"no link\")\n",
    "       urls = \", \".join(urls)\n",
    "       return urls\n",
    "jeopardy['link_url'] = jeopardy.question.apply(link_finder)\n"
   ]
  },
  {
   "cell_type": "code",
   "execution_count": 232,
   "metadata": {},
   "outputs": [],
   "source": [
    "#Check for duplicate questions & filter to unique questions\n",
    "#Remove lines containing filler questions,missing audio/video clues, There are several questions that contain [video clue], [audio clue], or [filler] with no link or data on the question, remove those\n",
    "odd_questions = jeopardy[jeopardy.question.str.contains('\\[')]\n",
    "bad_questions = ['[audio clue]', '[video clue]', '[filler]']\n",
    "filter_questions = jeopardy[jeopardy.question.isin(bad_questions)]\n",
    "jeopardy = pd.concat([jeopardy, filter_questions]).drop_duplicates(keep = False)\n",
    "# Drop any remaining duplicate questions\n",
    "jeopardy = jeopardy.drop_duplicates('question')\n",
    "duplicate_questions = jeopardy.question.duplicated().any()\n",
    "#print(duplicate_questions)"
   ]
  },
  {
   "cell_type": "code",
   "execution_count": 233,
   "metadata": {},
   "outputs": [],
   "source": [
    "#lambda to create a question column with no links or punctuation\n",
    "jeopardy['question_no_link'] =jeopardy.question.apply(lambda text: BeautifulSoup(text, 'html.parser').get_text())\n"
   ]
  },
  {
   "cell_type": "code",
   "execution_count": 234,
   "metadata": {},
   "outputs": [],
   "source": [
    "jeopardy['question_no_link'] = replace_in_column(jeopardy['question_no_link'], **replace_punctuation)\n",
    "jeopardy['question_no_link'] = jeopardy.question_no_link.str.lower()"
   ]
  },
  {
   "cell_type": "code",
   "execution_count": 235,
   "metadata": {},
   "outputs": [],
   "source": [
    "#The answer to two of the questions is 'null' so it got pulled in as a Null value. Let's see if we can fix that.\n",
    "#Function to replace Null values with the word 'null' when appropriate\n",
    "def null_value_fixer (df, column_name):\n",
    "    column = df[column_name]\n",
    "    indices = (df.index.values[column.isnull()])\n",
    "    new_df = df.copy()\n",
    "    for indx in indices:\n",
    "        new_df.loc[indx, column_name] = '[null]'\n",
    "    return new_df\n",
    "\n",
    "jeopardy = null_value_fixer(jeopardy, 'answer')"
   ]
  },
  {
   "cell_type": "code",
   "execution_count": 236,
   "metadata": {},
   "outputs": [],
   "source": [
    "#Clean answers by duplicating column to one with just the words & text, removing punctuation and making lower case \n",
    "jeopardy['answer_words'] = replace_in_column(jeopardy['answer'], **replace_punctuation)\n",
    "jeopardy['answer_words'] = jeopardy.answer_words.str.lower()"
   ]
  },
  {
   "cell_type": "code",
   "execution_count": 237,
   "metadata": {},
   "outputs": [],
   "source": [
    "#Remove punctuation from dollar_value\n",
    "jeopardy['dollar_value'] = jeopardy.dollar_value.str.replace('(\\D+)', '', regex= True)"
   ]
  },
  {
   "cell_type": "code",
   "execution_count": 238,
   "metadata": {},
   "outputs": [],
   "source": [
    "#Create a csv of the cleaned data including the newly created columns and reset the jeopardy database to drop the links column for ease of use.\n",
    "#jeopardy.to_csv(\"jeopardy_clean.csv\")"
   ]
  },
  {
   "cell_type": "code",
   "execution_count": 239,
   "metadata": {},
   "outputs": [],
   "source": [
    "jeopardy = jeopardy.copy().drop('link_url', axis = 1)"
   ]
  },
  {
   "cell_type": "markdown",
   "metadata": {},
   "source": [
    "2. Write a function that filters the dataset for questions that contains all of the words in a list of words. For example, when the list `[\"King\", \"England\"]` was passed to our function, the function returned a DataFrame of 49 rows. Every row had the strings `\"King\"` and `\"England\"` somewhere in its `\" Question\"`.\n",
    "\n",
    "   Test your function by printing out the column containing the question of each row of the dataset."
   ]
  },
  {
   "attachments": {},
   "cell_type": "markdown",
   "metadata": {},
   "source": [
    "**My initial answer to this section found words in an \"or\" list that did not fully answer the question. It would have found all the questions with the word \"king\" or the word \"England\" but would not found only the intersection.**"
   ]
  },
  {
   "cell_type": "code",
   "execution_count": 240,
   "metadata": {},
   "outputs": [],
   "source": [
    "#Initial Answer: function to find words from a words list in a dataframe column, count them, and return dictionaris of the word:count, and the word:column-rows. \n",
    "def words_list_counter (column, words_list):\n",
    "    wordlist_questions = {}\n",
    "    word_list_count = {}\n",
    "    for word in words_list:\n",
    "        word = word.lower()\n",
    "        count = column[column.str.contains(word)].count()\n",
    "        word_questions = column[column.str.contains(word)].reset_index(drop=True)\n",
    "        word_list_count[word]=count\n",
    "        wordlist_questions [word] = word_questions\n",
    "    return word_list_count, wordlist_questions\n"
   ]
  },
  {
   "cell_type": "code",
   "execution_count": 241,
   "metadata": {},
   "outputs": [
    {
     "name": "stdout",
     "output_type": "stream",
     "text": [
      "{'land': 8520, 'plain': 420, 'sea': 3844, 'ocean': 325}\n"
     ]
    }
   ],
   "source": [
    "#Initial Answer: test the function to find questions about topics with terrains.\n",
    "terrain_list = [\"land\",\"plain\", \"sea\", \"ocean\"]\n",
    "terrain_questions_count, terrain_questions = words_list_counter(jeopardy['question'], terrain_list)\n",
    "print(terrain_questions_count)\n",
    "#print(terrain_questions)"
   ]
  },
  {
   "attachments": {},
   "cell_type": "markdown",
   "metadata": {},
   "source": [
    "**Second answer, noting the need for an answer that finds the intersection of lines that includes all words from the input list**\n",
    "\n",
    "\n",
    "Input dataframe, column, words_list\n",
    "\n",
    "\n",
    "Output: dataframe selecting only lines that include all words from the wordslist in the selected column"
   ]
  },
  {
   "cell_type": "code",
   "execution_count": 242,
   "metadata": {},
   "outputs": [],
   "source": [
    "def word_list_overlap (df, column, words_list):\n",
    "    df_subset = df.copy()\n",
    "    for word in words_list:\n",
    "        word = word.lower()\n",
    "        df_subset = df_subset[df_subset[column].str.contains(word)].reset_index()\n",
    "    return df_subset[column]"
   ]
  },
  {
   "cell_type": "code",
   "execution_count": 243,
   "metadata": {},
   "outputs": [
    {
     "name": "stdout",
     "output_type": "stream",
     "text": [
      "0                                             the islands in australias yampi sound are rich in hematite an ore of this metal\n",
      "1                      the quokka a shorttailed species of this kangaroo relative is found on rottnest island  in w australia\n",
      "2                         ten days on the island is an annual cultural festival taking place throughout this australian state\n",
      "3                            the university of this island state boasts one of the southernmost college campuses in australia\n",
      "4                         in november 1642 this dutchman discovered the island now named for him south of australias mainland\n",
      "5                                                       the last pureblooded aborigine on this australian island died in 1876\n",
      "6                                maori is an official language of this island country about 1000 miles southeast of australia\n",
      "7             in 179899 george bass  matthew flinders proved this current australian state was an island by sailing around it\n",
      "8                    in 1906 the territory of papua was established on this island as a protectorate under australian control\n",
      "9                                 named partly for its temper its extinct on the australian mainland but endures on an island\n",
      "10                     sailing through a strait off australia in 1798 george bass  matthew flinders proved this was an island\n",
      "11                                                   australias smallest state this island used to be called van diemens land\n",
      "12                    australias largest freshwater lakes were artificially created  include lake gordon on this island state\n",
      "13             an australian territory this island named for a holiday is known for its annual migration of millions of crabs\n",
      "14                          a province of indonesia  a former territory of australia share this the worlds 2nd largest island\n",
      "15                    this island state is sometimes called the apple isle because it once produced most of australias apples\n",
      "16                                            at 5305 feet mount ossa is the highest point on this devilish australian island\n",
      "17                     this countrys north island is on the australian continental plate south island is on the pacific plate\n",
      "18                 australias least populous state it consists of the main island  many smaller ones including king  flinders\n",
      "19                                  this australian state has many islands including king island maria island  the kent group\n",
      "20                                                               hobart is the capital city of this island state of australia\n",
      "21                                                      this island off australia has been home to carnivorous devils  wolves\n",
      "22                     70 million years ago this immense australian sandstone monolith was actually an island in a large lake\n",
      "23                       australia is home to the torres strait islanders  to the larger indigenous group usually called this\n",
      "24           cooks first visit to australia was tagged onto a voyage to this south seas island later visited by captain bligh\n",
      "25                                                                         satanic mammal found only on island s of australia\n",
      "26    hurt  angry at also being called the kukukuku the anga lash out from their home on this large island north of australia\n",
      "27                                  named for a surgeonexplorer the bass strait separates victoria australia from this island\n",
      "28                   australias only large permanent lakes are artificially created  include lake gordon in this island state\n",
      "Name: question_no_link, dtype: object\n"
     ]
    }
   ],
   "source": [
    "australia_island_list = ['australia', 'island']\n",
    "australia_island_overlap_questions = word_list_overlap(jeopardy, 'question_no_link', australia_island_list)\n",
    "print(australia_island_overlap_questions)"
   ]
  },
  {
   "cell_type": "markdown",
   "metadata": {},
   "source": [
    "3. Test your original function with a few different sets of words to try to find some ways your function breaks. Edit your function so it is more robust.\n",
    "\n",
    "   For example, think about capitalization. We probably want to find questions that contain the word `\"King\"` or `\"king\"`.\n",
    "   \n",
    "   You may also want to check to make sure you don't find rows that contain substrings of your given words. For example, our function found a question that didn't contain the word `\"king\"`, however it did contain the word `\"viking\"` &mdash; it found the `\"king\"` inside `\"viking\"`. Note that this also comes with some drawbacks &mdash; you would no longer find questions that contained words like `\"England's\"`."
   ]
  },
  {
   "cell_type": "code",
   "execution_count": 244,
   "metadata": {},
   "outputs": [
    {
     "name": "stdout",
     "output_type": "stream",
     "text": [
      "58\n",
      "['a 35millionsquaremile land area between the atlantic ocean  the red sea'\n",
      " 'counting crows in 1492 columbus sailed the ocean blue in ____ he came home across the deep blue sea'\n",
      " 'genesis calls it the salt sea perhaps because its salinity reaches 4 times that of ocean water'\n",
      " 'amsterdam island in the indian ocean 1800 mi from any cont has a rare type of this wandering seabird'\n",
      " 'some say the weddell sea is an arm of the antarctic ocean others say its part of this larger ocean'\n",
      " 'the persian gulf is an arm of the arabian sea which is part of this ocean'\n",
      " 'its a portion of an ocean or sea partly enclosed by land theres one of aden'\n",
      " 'oceanus hopkins was born on this ship while it was at sea peregrine white after it got to new england'\n",
      " 'oceanus hopkins was born at sea in 1620 aboard this pilgrim ship'\n",
      " 'when this spaniard reached the shore of the pacific ocean on september 29 1513 he called it the south sea'\n",
      " 'cy tung bought this ocean liner in 1970 with plans to convert her into the floating seawise university'\n",
      " 'new zealand is bordered by the south pacific ocean on the east  by this sea on the west'\n",
      " 'the angolan sea god kianda is the guardian of this nearby ocean  all its creatures'\n",
      " 'many explorers once sought this arctic sea route connecting 2 oceans'\n",
      " 'by the mid1950s this country had about 375 subs in various oceans  seas'\n",
      " 'ferdinand  isabella promised to make him admiral of the ocean sea if he was successful in his 1492 voyage'\n",
      " 'in 1957 this undersea explorer became director of monacos oceanographic museum'\n",
      " 'samuel eliot morison won a pulitzer for admiral of the ocean sea about this man who died in 1506'\n",
      " 'he named the ocean pacific after many turbulent detours in south america while searching for asia'\n",
      " 'sea creatures that live in the benthos this part of the ocean include clams  halibut'\n",
      " 'sofia of the clue crew at sea world in san diego  at the california tide pool you can pick up one of these 5armed animals that live in every ocean around the world'\n",
      " 'a sea wasp is not an insect but one of these stinging ocean fish'\n",
      " '1978s seasat a companion to landsat was the first one of these dedicated to oceanography'\n",
      " 'this sea has heavy mineral deposits which make it saltier than the oceans  almost uninhabitable'\n",
      " 'new zealand is bounded by the pacific ocean to the east  this sea to the west'\n",
      " 'geography this sea an arm of the indian ocean separates oman  india'\n",
      " 'red crabs need moisture to breed so they await this season of heavy rains to troop to the ocean to breed'\n",
      " 'large oceangoing vessels can travel from the north sea inland as far as hamburg on this river'\n",
      " 'if she sells seashells in the seychelles you can bet that she got them from this ocean'\n",
      " 'kelly of the clue crew shows a map on the monitor  connecting the western mediterranean sea with the atlantic ocean is this narrow passage of water'\n",
      " 'kelly of the clue crew shows a map on the monitor  during the winter the somali current flows south  west in the summer it changes course  flows in the opposite direction due to the winds of this indian ocean storm season'\n",
      " 'buy some sea shells in the seychelles an archipelago in this ocean'\n",
      " 'this title character put his webbed hands  feet to work for the foundation for oceanic research'\n",
      " 'this ocean is connected to the atlantic through the norwegian sea'\n",
      " 'although most seals live in the ocean some live in fresh water like this siberian lake the worlds deepest'\n",
      " 'these islands separate the caribbean sea from the atlantic ocean'\n",
      " 'isaac newton said he felt like a boy finding these small stones on the seashore of the ocean of truth'\n",
      " 'a map of the pacific ocean goes from the bering sea down to this one off australia'\n",
      " 'this deadliest fish in the sea sits like a rock at the bottom of the ocean  stings prey via its poisonous spines'\n",
      " 'sarah of the clue crew shows a diagram comparing sea level  various depths on the monitor  starting at sea level here is the empire state building  the worlds tallest building compared to the full depth of this oceanic trench'\n",
      " 'sarah of the clue crew reports from uc san diegos scripps institution of oceanography  scripps helps launch 2008 as the year of the reef scientists visited bonaire in this sea to find out why it has escaped damage done to coral elsewhere'\n",
      " 'this states port of duluth greatly increased ocean traffic when the st lawrence seaway opened in 1959'\n",
      " 'geographically the red sea is actually a long narrow arm of this ocean'\n",
      " 'this country has coastlines on both the caribbean sea and the pacific ocean'\n",
      " 'a research vessel from this oceanographic institute on cape cod located the titanic in 1985'\n",
      " 'kelly of the clue crew reads from the maui ocean center  mature green sea turtles are herbivores thats why their body fat is green young ones who havent developed their color yet feed on creatures like jellyfish so theyre classified as these'\n",
      " 'kelly of the clue crew reads from the maui ocean center  sea turtles dive to hundreds of feet by storing air in special passages unlike the lungs the passages dont have a network of blood vessels so nitrogen doesnt get into the bloodstream to cause this as in humans'\n",
      " 'this seaway that enables ocean vessels to reach inland ports on the great lakes opened to shipping april 25 1959'\n",
      " 'in japanese umi is sea or ocean  yama is this'\n",
      " 'the blue on panamas flag symbolizes the pacific ocean and this sea'\n",
      " 'despite their name spring these caused by alignment of the sun moon  earth happen in the ocean in every season'\n",
      " 'jimmy of the clue crew shows a map on the monitor  the red sea the gulf of aden  the indian ocean form the eastern coast of the region seen here known by this 3word term'\n",
      " 'the aleutian islands separate the pacific ocean from this sea'\n",
      " 'the caribbean sea is part of this secondlargest ocean'\n",
      " 'the kuril islands separate the sea of okhotsk from this ocean'\n",
      " 'the red sea is considered an arm of this ocean'\n",
      " 'in haiti lambi is this big spiralshelled sea snail if i eat it can i hear the ocean'\n",
      " 'changing monsoon winds cause seasonal reverses of surface water movement in this indian ocean bay']\n"
     ]
    }
   ],
   "source": [
    "#test the function to find questions about topics with terrains.\n",
    "water_list = ['Ocean', 'Sea']\n",
    "water_questions= word_list_overlap(jeopardy, 'question_no_link', water_list)\n",
    "print(water_questions.count())\n",
    "print(water_questions.values)"
   ]
  },
  {
   "attachments": {},
   "cell_type": "markdown",
   "metadata": {},
   "source": [
    "*Breaks on 'researcher', 'oceanus', 'seasonal'.*"
   ]
  },
  {
   "cell_type": "code",
   "execution_count": 245,
   "metadata": {},
   "outputs": [
    {
     "name": "stdout",
     "output_type": "stream",
     "text": [
      "152\n",
      "['both englands king george v  fdr put their stamp of approval on this king of hobbies'\n",
      " 'in retaliation for viking raids this unready king of england attacks norse areas of the isle of man'\n",
      " 'this king of england beat the odds to trounce the french in the 1415 battle of agincourt'\n",
      " 'this scotsman the first stuart king of england was called the wisest fool in christendom'\n",
      " 'its the number that followed the last king of england named william'\n",
      " 'nelson said england expects that every man will do this  died thanking god he did his'\n",
      " 'this countrys king louis iv was nicknamed louis from overseas because he was raised in england'\n",
      " 'there was good kinging in the 800sleo the wise ruled the byzantine empire while england had alfred the this'\n",
      " 'in 1199 this crusader king of england was mortally wounded while besieging the castle of chalus'\n",
      " 'name of 8 kings of england since 1272 it was also general lees middle name'\n",
      " 'he was the only king of england to have the great tacked on to his name'\n",
      " 'this man and his son ruled england following the execution of king charles i'\n",
      " 'william the conqueror was crowned king of england in westminster abbey on christmas day in this year'\n",
      " 'this unready king of england lost most of his country to sven forkbeard the king of denmark'\n",
      " 'this king of england was killed by a norman arrow at the battle of hastings'\n",
      " 'in 1066 he became the last saxon king to rule england'\n",
      " 'this member of the medici family was the motherinlaw of englands king charles i'\n",
      " 'the iv king of this name following the norman conquest brought the house of york to englands throne'\n",
      " 'this king of england was a leader of the third crusade'\n",
      " 'sarah of the clue crew delivers the clue from the bayeux cathedral in france  despite taking an oath to assure another succession harold is crowned king of england the tapestry indicated it was stigant this archbishop who performed the ceremony'\n",
      " 'born in bedfordshire england in 1628 he was making progress from the start'\n",
      " 'before he became king of england george vi served in the royal navy  fought in the battle of jutland during this war'\n",
      " 'jimmy of the clue crew holds a block of cheese  im in this midwest state famous for making cheddar which actually originated in a village in england'\n",
      " 'they named a knot for this duke who was briefly king of england'\n",
      " 'this french king recognized william of orange as william ii king of england under the terms of 1697s treaty of ryswick'\n",
      " 'englands king henry viii had 3 wives named catherine  catherine howard catherine of aragon  this one'\n",
      " 'the father of englands king edward vi'\n",
      " 'this steak sauce was created for king george iv of england'\n",
      " 'elizabeth is halfbrother he reigned before her as king of england from 1547 to 1553'\n",
      " 'alex trebek reads from england  in 1214 barons fed up with king john met at the abbey whose ruins we see here the result a year later was this charter'\n",
      " 'he wrote several anthems including the king shall rejoice for the coronation of englands king george ii'\n",
      " 'this associate of marx wrote about the condition of the working class in england in 1844'\n",
      " 'while in england in 1760 john hancock attended the coronation of this king'\n",
      " 'jimmy of the clue crew reports from in front of the bayeux tapestry  the tapestry opens in 1064 with this childless king on englands throne 11th century sources say the meeting is about naming his successor'\n",
      " 'when englands queen anne died this german became king because he was a great grandson of james i'\n",
      " 'this city known for its 24hour auto race was the birthplace of englands king henry ii in 1133'\n",
      " 'he was the last of the 3 men who were king of england during 1066'\n",
      " 'famous  rather insulting adjective for englands king ethelred ii'\n",
      " 'the only name shared by four consecutive kings of england'\n",
      " 'he became king of england in 1399 after forcing his cousin richard ii from the throne'\n",
      " 'in the 1697 treaty of rijswijk the french recognized this dutchborn man as king of england'\n",
      " 'in literature restoration refers to the period after the return of this king to englands throne in 1660'\n",
      " 'he was working on his 3rd symphony when he died in england in 1934 it premiered in 1998 amid much pomp'\n",
      " 'this king called the great beat the danes in 886 to keep all of england from being conquered'\n",
      " 'this first tudor king reigned on the throne of england'\n",
      " 'chronological lists of englands kings are missing 16491660 between 2 kings of this name'\n",
      " 'in 1710 handel was appointed kapellmeister to the elector of hanover this future king of england'\n",
      " 'number of the william who was englands sailor king from 1830 to 1837'\n",
      " 'this current king of jordan received part of his education in england at harrow  sandhurst'\n",
      " 'barons  churchmen drew up this 1215 document to reduce the power of englands king john'\n",
      " 'in 1497 this venetian sailing for england became the first european since the vikings to reach n america'\n",
      " 'its the rank of the character singing here i know the kings of england and i quote the fights historical  from marathon to waterloo in order categorical'\n",
      " '11th century england had 2 kings with this name one a dane  one a saxon'\n",
      " 'he became king of england on june 26 1483 just over 2 years later he was killed at bosworth field'\n",
      " 'henry ii who succeeded stephen as king of england in 1154 was the first monarch from this house'\n",
      " 'he called himself king of great britain after gaining englands throne in 1603he was already king of scotland'\n",
      " 'on christmas day 1066 he was crowned king of england 72 days after defeating harold at the battle of hastings'\n",
      " 'englands king charles ii was known by this jovial nickname'\n",
      " 'this nickname of virginia came from charles ii ranking it with england ireland france  scotland'\n",
      " 'englands last lancastrian king he was imprisoned  murdered in the tower of london in 1471'\n",
      " 'england had its last saxon king'\n",
      " 'the rump parliament wanted him to be the last king england would ever name'\n",
      " 'he went from second banana on roseanne to top banana of england in king ralph'\n",
      " 'the taking of england by william in 1066 is known as this conquest'\n",
      " 'this countrys king olaf v was born in england  was the grandson of king edward vii'\n",
      " 'during an 1840 speaking tour in england he persuaded thousands to emigrate to nauvoo illinois'\n",
      " 'in 1860s england he would change the rules of pugilism forever by making them  this summer vin diesel is'\n",
      " 'this 11th century king of england also ruled denmark  norway during the latter part of his reign'\n",
      " 'he was the confessor king of england in the 11th century'\n",
      " 'in a 1989 ceremony at buckingham palace the queen of england made him an honorary knight'\n",
      " 'from 1714 to 1830 every king of england had this name'\n",
      " 'regent for his predecessor from 1811 to 1820 he was king of england on his own from 1820 to 1830'\n",
      " 'like englands william i aragons jaime i won this nickname in part by taking over valencia'\n",
      " 'carolus stuardus by andreas gryphius is about this executed king of england'\n",
      " 'this king of england was the grandfather of elizabeth i'\n",
      " 'this romantic began his england in 1819 an old mad blind despised and dying king'\n",
      " 'it begins john by the grace of god king of england lord of ireland duke of normandy  aquitaine'\n",
      " 'in 1191 berengaria married this king of england in limassol cyprus'\n",
      " 'in french this king of england is called guillaume le conquerant'\n",
      " 'winchester the county seat of hampshire was the capital of this western anglosaxon kingdom of england'\n",
      " 'in this twain tale tom canty is a dead ringer for the future king of england'\n",
      " 'if you want to be crowned king of england this rock has to be in your coronation chair'\n",
      " 'king henry vii of england dies'\n",
      " 'the first hanoverian king born in england he ruled for 60 years from 1760 to 1820'\n",
      " 'famous nickname of the eldest son of englands king edward iii'\n",
      " 'more butcher than king in england is seen as this leader born in 1599 33 years after nostradamus died'\n",
      " 'ethelred the unready managed to lose most of england to king sweyn forkbeard of this country'\n",
      " 'this state was named for the king of england who reigned from 1727 to 1760'\n",
      " 'king edward i of england who fought william wallace had this nickname relating to his height'\n",
      " 'this sun king sniffed england is a little garden full of sour weeds'\n",
      " 'this conflicts last battle in 1485 resulted in the house of lancaster taking power in england'\n",
      " '1999 goodnight you princes of maine you kings of new england'\n",
      " 'the last king william to rule england had this number after his name'\n",
      " '11891377 1483 are the 3 years the only 3 kings of england with this name each ascended the throne'\n",
      " 'in 1191 this lionhearted king of england captured cyprus  acre during the crusades'\n",
      " 'dutchborn protestant prince william of orange became king of england after this catholic king was deposed  fled'\n",
      " 'anglosaxon legend says his third son japheth is an ancestor of the kings of wessex  england'\n",
      " 'this flemish artist painted a unique triple portrait of englands king charles i around 1637'\n",
      " 'in the late 800s this king of wessex prevented the vikings from conquering all of england'\n",
      " 'ending an 800yearold monarchy in october this country became a republic  its last king manuel ii fled to england'\n",
      " 'on his way back from failing to take jerusalem in 1192 this king of england was captured  later ransomed'\n",
      " 'the only king of england named stephen was the grandson of this conqueror'\n",
      " 'england had this many kings named richard'\n",
      " 'during stanley baldwins term as pm this king of england abdicated'\n",
      " '2000 saw a fight in england over running the lottery with this virgin king at the forefeont'\n",
      " 'colchester england was named for this legendary celtic king immortalized in rhyme'\n",
      " 'at the beginning of a tale of two cities these 2 kings sit on the thrones of england  france'\n",
      " 'this dutchborn english king introduced gin to england as the pouring spirit in the palace at hampton court'\n",
      " 'a translation of the bible is named for this king of england  scotland'\n",
      " 'this king divorced the church of england from the catholic church so that he could divorce the first of 6 wives'\n",
      " 'the glorious revolution of 1688 brought this dutchman to power as king of england scotland  ireland'\n",
      " 'this shakespeare title guy the last yorkist king of england was beloved by the people of york'\n",
      " 'the 1st commoner to rule england he became lord protector following the overthrow of king charles i'\n",
      " 'the angel of hadley is said to have saved a new england town during the war with this indian king'\n",
      " 'argentina didnt kick about this controversial tiebreaking method after using it to beat england'\n",
      " 'the last anglosaxon king of england was killed in this battle'\n",
      " 'in the 1697 treaty of rijswijk the french recognized this dutchborn man as king of england'\n",
      " 'a breed of spaniel is named for englands second king of this name'\n",
      " 'this conqueror was crowned king of england on christmas day 1066'\n",
      " 'his short reign as king of england fell in in 1936'\n",
      " 'he succeeded henry ii as king of england in 1189  was himself succeeded by john in 1199'\n",
      " 'soccer was forbidden in 14th century england for taking practice time away from this military skill'\n",
      " 'richard was crowned king of england at this place of worship'\n",
      " '1066 hes crowned king of england'\n",
      " 'a capital in the west indies is named for this family name of william of orange king of england'\n",
      " 'by 878 the vikings had conquered all of england except for this southern kingdom controlled by alfred the great'\n",
      " 'he was king of england from 1189 to 1199 but spent only 6 months there the rest of the time he was off fighting'\n",
      " 'this bahamian capital took its name from the family name of king william iii of england'\n",
      " 'this style influenced by the romans is named for englands 4 kings between 1714  1830'\n",
      " 'in january 1533 she secretly married the king of england'\n",
      " 'the man who became king of england in 1066 was succeeded by this king in 1087'\n",
      " 'this coventry england company made its first motorcycle in 1902  began making its own engines in 1905'\n",
      " 'on jan 28 1547 after a physical  mental decline this king of england was surprisingly survived by his wife catherine'\n",
      " 'englands king harold ii lost the allimportant battle of hastings in this year'\n",
      " '1 of the first 5 kings of england'\n",
      " 'on january 6 1066 one day after edward the confessor died he became king of england'\n",
      " 'sarah of the clue crew stands in front of the royal palace in oslo norway king harald v lives here in norways royal palace he and his second cousin englands queen elizabeth are both greatgrandchildren of this british king who ruled from 1901 to 1910'\n",
      " 'englands king _____ _____ r luce'\n",
      " 'the monty python member who played king arthur he ended his grail quest in maidstone england'\n",
      " 'in 1714 the prince of hanover who spoke little english became king of england under this name'\n",
      " 'in 1603 he became the first stuart king of england'\n",
      " 'englands richard iii was the last king of this ruling house'\n",
      " '8th c king offa built a 170mile northsouth dike that still partly marks the border of england  this country'\n",
      " 'this monarch on whom the magna carta was forced has been called the worst king ever to rule england'\n",
      " 'popular saintexupery character waiting around to become king of england'\n",
      " 'in 1731 this mans ear was cut off later sparking a war between spain  england'\n",
      " 'this southern colony was named for a king of england the ii of that name'\n",
      " 'in 1066 this greatgreat grandson of rollo made what some call the last viking invasion of england'\n",
      " 'dutchborn king who ruled england jointly with mary ii  is a tasty new zealand fish'\n",
      " 'in 1781 william herschel discovered uranus  initially named it after this king of england'\n",
      " 'his nickname was bertie but he used this name  number when he became king of england in 1901'\n",
      " 'this kingdom of england grew from 2 settlements one founded around 495 by cerdic  his son cynric']\n"
     ]
    }
   ],
   "source": [
    "#test the function to find questions about topics with terrains.\n",
    "king_england_list = ['King', 'England']\n",
    "king_england_questions= word_list_overlap(jeopardy, 'question_no_link', king_england_list)\n",
    "print(king_england_questions.count())\n",
    "print(king_england_questions.values)"
   ]
  },
  {
   "attachments": {},
   "cell_type": "markdown",
   "metadata": {},
   "source": [
    "*Breaks on 'viking', 'thanking'.*\n",
    "\n",
    "**I'll want to limit words that include an input word, while allowing for plurals.**"
   ]
  },
  {
   "cell_type": "code",
   "execution_count": 274,
   "metadata": {},
   "outputs": [],
   "source": [
    "def word_list_overlap_v2 (df, column, words_list):\n",
    "    df_subset = df.copy()\n",
    "    for word in words_list:\n",
    "        word = word.lower()\n",
    "        regex_word = \"(?:(^|\\s)+\"+word+\"+(\\s|((s|es)+($|\\s))))\"\n",
    "        df_subset = df_subset[df_subset[column].str.contains(regex_word, regex= True)].reset_index()\n",
    "    return df_subset"
   ]
  },
  {
   "cell_type": "code",
   "execution_count": 275,
   "metadata": {},
   "outputs": [
    {
     "name": "stderr",
     "output_type": "stream",
     "text": [
      "/tmp/ipykernel_731028/2291917690.py:6: UserWarning: This pattern is interpreted as a regular expression, and has match groups. To actually get the groups, use str.extract.\n",
      "  df_subset = df_subset[df_subset[column].str.contains(regex_word, regex= True)].reset_index()\n"
     ]
    },
    {
     "name": "stdout",
     "output_type": "stream",
     "text": [
      "36\n",
      "['In 1707 her title changed to Queen of Great Britain & Ireland (it used to be Queen of England, Scotland & Ireland)'\n",
      " \"In 1632 this court painter to England's Charles I & Queen Henrietta Maria was knighted\"\n",
      " \"The queen of England probably didn't use the dart in the map trick to make this city a capital in 1857\"\n",
      " 'This Queen of England was the granddaughter of Ferdinand & Isabella of Spain'\n",
      " \"In England the anniversary of this queen's birthday is observed on a Saturday following May 24\"\n",
      " 'England\\'s \"Good Queen Bess\"'\n",
      " 'In 1706 she was queen of England & involved in a North American war bearing her name'\n",
      " 'She was the queen of England from 1558 to 1603'\n",
      " \"A true 9 days' wonder, her reign as Queen of England was for a mere 9 days in July of 1553\"\n",
      " 'On July 10, 1553 this unfortunate lady was proclaimed queen of England, succeeding Edward VI'\n",
      " 'This granddaughter of George III became queen of England in 1837'\n",
      " \"When England's Queen Anne died, this German became king because he was a great grandson of James I\"\n",
      " \"This name is popular in England because it was the name of England's queen for most of the 1800s\"\n",
      " 'The Queen of England\\'s \"official\" one is on the 2nd or 3rd Saturday in June'\n",
      " 'In a 1989 ceremony at Buckingham Palace, the Queen of England made him an honorary knight'\n",
      " \"They were the parents of England's Queen Elizabeth I\"\n",
      " 'She became queen of England in 1702 after a riding accident led to the death of William III'\n",
      " 'England\\'s beloved Queen Mother grew up in this castle that\\'s featured in \"Macbeth\"'\n",
      " '(<a href=\"http://www.j-archive.com/media/2011-07-22_DJ_13.jpg\" target=\"_blank\">Jimmy of the Clue Crew presents the clue on a monitor</a>.)  In a portrait by Anthony Mor,  England\\'s Queen Mary holds a red rose--the symbol of <a href=\"http://www.j-archive.com/media/2011-07-22_DJ_13a.jpg\" target=\"_blank\">this</a> side in the Wars of the Roses  that triumphed under Mary\\'s grandfather, Henry Tudor'\n",
      " 'This \"Nine Days\\' Queen\" of England was a granddaughter of Henry VIII\\'s sister Mary'\n",
      " 'Many claim that before Bloody Mary grabbed the throne, this \"Lady\" was Queen of England for 9 days'\n",
      " \"I feel like a lover in this state that's named for England's celibate queen, Elizabeth I\"\n",
      " 'She was crowned queen of England just 4 days after Edmund Hillary conquered Mount Everest'\n",
      " 'In 1945, after the wartime years in England, Queen Wilhelmina crossed the North Sea & returned to this country'\n",
      " 'In 1992 this queen of England agreed to pay income tax'\n",
      " 'The queen of England signs her name Elizabeth this'\n",
      " 'This Scottish castle, a private residence of the Queen of England, stands on the right bank of the River Dee'\n",
      " 'This second lord protector of England was called \"Queen Dick\" for his timidity'\n",
      " 'She was just 25 when she became queen of England 46 years ago'\n",
      " 'He fathered 2 queens of England by 2 different women'\n",
      " '(<a href=\"http://www.j-archive.com/media/2012-01-17_DJ_25.jpg\" target=\"_blank\">Sarah of the Clue Crew stands in front of the Royal Palace in Oslo, Norway.</a>) King Harald V lives here, in Norway\\'s Royal Palace. He and his second cousin, England\\'s Queen Elizabeth, are both great-grandchildren of this British king, who ruled from 1901 to 1910.'\n",
      " \"According to the London Times she was England's highest-earning British woman in 2001, followed by Queen Elizabeth II\"\n",
      " \"The deposed father of England's Queen Anne\"\n",
      " 'Reputedly, the first Christmas tree in England was the one Prince Albert gave this queen in 1841'\n",
      " 'Queen Ena of Spain, the last surviving granddaughter of this queen of England, died in 1969'\n",
      " \"This future U.S. First Lady went to England to cover Queen Elizabeth II's coronation for The Washington Times-Herald\"]\n"
     ]
    },
    {
     "name": "stderr",
     "output_type": "stream",
     "text": [
      "/tmp/ipykernel_731028/2291917690.py:6: UserWarning: This pattern is interpreted as a regular expression, and has match groups. To actually get the groups, use str.extract.\n",
      "  df_subset = df_subset[df_subset[column].str.contains(regex_word, regex= True)].reset_index()\n"
     ]
    }
   ],
   "source": [
    "#test the function to find questions about topics with queen, england\n",
    "queen_england_list = ['Queen', 'England']\n",
    "queen_england_questions_1= word_list_overlap_v2(jeopardy, 'question_no_link', queen_england_list)\n",
    "print(queen_england_questions_1.question.count())\n",
    "print(queen_england_questions_1[\"question\"].values)"
   ]
  },
  {
   "attachments": {},
   "cell_type": "markdown",
   "metadata": {},
   "source": [
    "*This is improved, the regex catches plurals, but not topic word inclusions in other words (ie - sea in researcher)*"
   ]
  },
  {
   "cell_type": "markdown",
   "metadata": {},
   "source": [
    "4. We may want to eventually compute aggregate statistics, like `.mean()` on the `\" Value\"` column. But right now, the values in that column are strings. Convert the`\" Value\"` column to floats. If you'd like to, you can create a new column with float values.\n",
    "\n",
    "   Now that you can filter the dataset of question, use your new column that contains the float values of each question to find the \"difficulty\" of certain topics. For example, what is the average value of questions that contain the word `\"King\"`?\n",
    "   \n",
    "   Make sure to use the dataset that contains the float values as the dataset you use in your filtering function."
   ]
  },
  {
   "cell_type": "code",
   "execution_count": 248,
   "metadata": {},
   "outputs": [],
   "source": [
    "#convert all the final jeopardy questions to a value of 0 so that I can convert the value column to float\n",
    "final_jeopardy_no_val = jeopardy[jeopardy['dollar_value']=='']\n",
    "no_val_indx = (jeopardy.index.values[jeopardy['dollar_value']==''])\n",
    "jeopardy_temp = jeopardy.copy()\n",
    "for indx in no_val_indx:\n",
    "    jeopardy_temp.loc[indx, 'dollar_value'] = 0\n",
    "jeopardy['dollar_value_flt'] = jeopardy_temp['dollar_value'].astype(float)"
   ]
  },
  {
   "attachments": {},
   "cell_type": "markdown",
   "metadata": {},
   "source": [
    "*Note: Average values that aren't limited to non-zero dolar_value_ft rows are inaccurate.Converting to Final jeopardy rounds are not really zero values*"
   ]
  },
  {
   "attachments": {},
   "cell_type": "markdown",
   "metadata": {},
   "source": [
    "Average values for questions:"
   ]
  },
  {
   "cell_type": "code",
   "execution_count": 249,
   "metadata": {},
   "outputs": [
    {
     "name": "stdout",
     "output_type": "stream",
     "text": [
      "game_round\n",
      "Double Jeopardy    1017.47\n",
      "Jeopardy            491.78\n",
      "Name: dollar_value_flt, dtype: float64\n"
     ]
    }
   ],
   "source": [
    "# average value of questions by jeopardy round - Tiebreaker and Final Jeopardy rounds do not have values listed\n",
    "avg_round_value = lambda x: x[x['game_round'].isin(['Double Jeopardy', 'Jeopardy'])].groupby('game_round').dollar_value_flt.mean().round(2)\n",
    "print(avg_round_value(jeopardy))"
   ]
  },
  {
   "attachments": {},
   "cell_type": "markdown",
   "metadata": {},
   "source": [
    "The average value of questions containing the word 'king': "
   ]
  },
  {
   "cell_type": "code",
   "execution_count": 285,
   "metadata": {},
   "outputs": [
    {
     "name": "stderr",
     "output_type": "stream",
     "text": [
      "/tmp/ipykernel_731028/2291917690.py:6: UserWarning: This pattern is interpreted as a regular expression, and has match groups. To actually get the groups, use str.extract.\n",
      "  df_subset = df_subset[df_subset[column].str.contains(regex_word, regex= True)].reset_index()\n"
     ]
    },
    {
     "name": "stdout",
     "output_type": "stream",
     "text": [
      "game_round\n",
      "Double Jeopardy    1032.37\n",
      "Jeopardy            525.23\n",
      "Name: dollar_value_flt, dtype: float64\n"
     ]
    }
   ],
   "source": [
    "king_lst = ['king']\n",
    "king_que= word_list_overlap_v2(jeopardy, 'question_no_link', king_lst)\n",
    "avg_king_round = avg_round_value(king_que)\n",
    "pprint.pprint(avg_king_round)\n"
   ]
  },
  {
   "cell_type": "markdown",
   "metadata": {},
   "source": [
    "5. Write a function that returns the count of unique answers to all of the questions in a dataset. For example, after filtering the entire dataset to only questions containing the word `\"King\"`, we could then find all of the unique answers to those questions. The answer \"Henry VIII\" appeared 55 times and was the most common answer."
   ]
  },
  {
   "cell_type": "code",
   "execution_count": 250,
   "metadata": {},
   "outputs": [],
   "source": [
    "def unique_high_freq_answers (df,answers_column, frequency_threshold):\n",
    "    answers_counts = pd.DataFrame(df[answers_column].value_counts())\n",
    "    answers_counts.reset_index(inplace=True)\n",
    "    answers_counts = answers_counts.rename(columns={'index': 'answer', 'answer_words': 'answer_freq'})\n",
    "    high_freq_ans = answers_counts[answers_counts['answer_freq']>= frequency_threshold]\n",
    "    return high_freq_ans"
   ]
  },
  {
   "cell_type": "code",
   "execution_count": 251,
   "metadata": {},
   "outputs": [
    {
     "name": "stdout",
     "output_type": "stream",
     "text": [
      "        answer  answer_freq\n",
      "0    australia          213\n",
      "1        china          213\n",
      "2        japan          194\n",
      "3      chicago          194\n",
      "4       france          189\n",
      "5        india          185\n",
      "6   california          179\n",
      "7       canada          173\n",
      "8        spain          168\n",
      "9       mexico          163\n",
      "10      alaska          160\n",
      "11       italy          159\n",
      "12      hawaii          157\n",
      "13       texas          152\n"
     ]
    }
   ],
   "source": [
    "jeopardy_unique_answers = (unique_high_freq_answers(jeopardy, 'answer_words', 150))\n",
    "print(jeopardy_unique_answers)"
   ]
  },
  {
   "cell_type": "code",
   "execution_count": 253,
   "metadata": {},
   "outputs": [],
   "source": [
    "class String_in_column_freq:\n",
    "    df = jeopardy.copy()\n",
    "\n",
    "    def __init__(self,  filter_column, target_column, topic_strings, freq_threshold) -> None:\n",
    "        self.filter_name = filter_column\n",
    "        self.target_name = target_column\n",
    "        self.column = String_in_column_freq.df[target_column]\n",
    "        self.filter = String_in_column_freq.df[filter_column]\n",
    "        self.topics = topic_strings\n",
    "        self.freq_threshold = freq_threshold\n",
    "        self.filter_column_inc_topic = {}\n",
    "        self.filter_column_topic_count = {}\n",
    "        self.target_topic_above_freq_threshold = {}\n",
    "    \n",
    "    def show(self):\n",
    "        topics_as_string = \", \".join(map(str, self.topics))\n",
    "        print('Within the jeopardy dataframe we are looking at the frequency with which strings occur in a column')\n",
    "        print('This class allows us to find all rows of the dataframe where we values frome a list of topics ('+ topics_as_string + ') in the filter column of: ' + self.filter_name)\n",
    "        print('It then counts the frequency of values in '+ self.target_name+ ' that occur more frequently than the threshold value of ' + str(self.freq_threshold))\n",
    "        print('The target column is: '+ self.target_name)\n",
    "        print('The strings are: '+ topics_as_string)\n",
    "        print('The filter column is: '+ self.filter_name)\n",
    "        print('The frequency threshold for target column values is: '+ str(self.freq_threshold))\n",
    "        print('To access the frequency with which our topics show up in the filter column, call topic filter and access self.filter_column topic count')\n",
    "        print('To access the frequency of values in the target column associated with the filter topics, call high_frequency_targets and access self.target_topic_above_freq_threshold')\n",
    "\n",
    "    def topic_filter(self):\n",
    "        for topic in self.topics:\n",
    "            topic = topic.lower()\n",
    "            #in case topic is one word that can be part of compound words, this regex will limit it to just the word\n",
    "            regex_topic = ('\\W'+topic+'\\W')\n",
    "            #topic_in_filter = String_in_column_freq.df[self.filter.str.contains(regex_topic, regex=True)]\n",
    "            topic_in_filter = String_in_column_freq.df[self.filter.str.contains(regex_topic, regex=True)]\n",
    "            self.filter_column_inc_topic [topic] = topic_in_filter\n",
    "            self.filter_column_topic_count [topic] = topic_in_filter[self.filter_name].count()\n",
    "        return self.filter_column_inc_topic, self.filter_column_topic_count\n",
    "    \n",
    "    def high_frequency_targets (self):\n",
    "        for key, value in self.filter_column_inc_topic.items():\n",
    "            target_counts = pd.DataFrame(value[self.target_name].value_counts())\n",
    "            target_counts.reset_index(inplace=True)\n",
    "            target_counts = target_counts.rename(columns={'index': 'target', self.target_name: 'target_freq'})\n",
    "            target_count_above_freq_threshold = target_counts[target_counts['target_freq']>=self.freq_threshold]\n",
    "            self.target_topic_above_freq_threshold[key] = target_count_above_freq_threshold\n",
    "    \n",
    "    def topic_freq_report (self):\n",
    "        print()"
   ]
  },
  {
   "cell_type": "code",
   "execution_count": 254,
   "metadata": {},
   "outputs": [
    {
     "name": "stdout",
     "output_type": "stream",
     "text": [
      "Within the jeopardy dataframe we are looking at the frequency with which strings occur in a column\n",
      "This class allows us to find all rows of the dataframe where we values frome a list of topics (King, Queen) in the filter column of: question_no_link\n",
      "It then counts the frequency of values in answer_words that occur more frequently than the threshold value of 10\n",
      "The target column is: answer_words\n",
      "The strings are: King, Queen\n",
      "The filter column is: question_no_link\n",
      "The frequency threshold for target column values is: 10\n",
      "To access the frequency with which our topics show up in the filter column, call topic filter and access self.filter_column topic count\n",
      "To access the frequency of values in the target column associated with the filter topics, call high_frequency_targets and access self.target_topic_above_freq_threshold\n",
      "None\n",
      "{'king':                      target  target_freq\n",
      "0                henry viii           35\n",
      "1               richard iii           23\n",
      "2                   solomon           21\n",
      "3                 louis xiv           19\n",
      "4                     david           19\n",
      "5                    norway           18\n",
      "6                    sweden           18\n",
      "7                   belgium           15\n",
      "8                 charles i           15\n",
      "9               charlemagne           14\n",
      "10                   france           14\n",
      "11                louis xvi           14\n",
      "12                  denmark           13\n",
      "13                 portugal           13\n",
      "14                     saul           12\n",
      "15                  james i           11\n",
      "16                  macbeth           11\n",
      "17  richard the lionhearted           11\n",
      "18               george iii           11\n",
      "19           nebuchadnezzar           11\n",
      "20      alexander the great           10\n",
      "21      frederick the great           10\n",
      "22             king hussein           10, 'queen':                 target  target_freq\n",
      "0            cleopatra           28\n",
      "1     marie antoinette           19\n",
      "2  mary queen of scots           16\n",
      "3             victoria           14\n",
      "4          elizabeth i           14\n",
      "5             isabella           10}\n"
     ]
    }
   ],
   "source": [
    "jeopardy_royalty_topics = ['King', 'Queen']\n",
    "royalty = String_in_column_freq(filter_column='question_no_link',\n",
    "                                target_column= 'answer_words', \n",
    "                                topic_strings=jeopardy_royalty_topics,\n",
    "                                freq_threshold= 10)\n",
    "#print(royalty.df.head(10))\n",
    "#print(royalty.topics)\n",
    "royalty.topic_filter()\n",
    "print(royalty.show())\n",
    "royalty.high_frequency_targets()\n",
    "print(royalty.target_topic_above_freq_threshold)\n"
   ]
  },
  {
   "cell_type": "code",
   "execution_count": 255,
   "metadata": {},
   "outputs": [],
   "source": [
    "royalty.freq_threshold =5"
   ]
  },
  {
   "cell_type": "code",
   "execution_count": 256,
   "metadata": {},
   "outputs": [
    {
     "name": "stdout",
     "output_type": "stream",
     "text": [
      "Within the jeopardy dataframe we are looking at the frequency with which strings occur in a column\n",
      "This class allows us to find all rows of the dataframe where we values frome a list of topics (King, Queen) in the filter column of: question_no_link\n",
      "It then counts the frequency of values in answer_words that occur more frequently than the threshold value of 5\n",
      "The target column is: answer_words\n",
      "The strings are: King, Queen\n",
      "The filter column is: question_no_link\n",
      "The frequency threshold for target column values is: 5\n",
      "To access the frequency with which our topics show up in the filter column, call topic filter and access self.filter_column topic count\n",
      "To access the frequency of values in the target column associated with the filter topics, call high_frequency_targets and access self.target_topic_above_freq_threshold\n",
      "None\n",
      "{'king':                      target  target_freq\n",
      "0                henry viii           35\n",
      "1               richard iii           23\n",
      "2                   solomon           21\n",
      "3                 louis xiv           19\n",
      "4                     david           19\n",
      "5                    norway           18\n",
      "6                    sweden           18\n",
      "7                   belgium           15\n",
      "8                 charles i           15\n",
      "9               charlemagne           14\n",
      "10                   france           14\n",
      "11                louis xvi           14\n",
      "12                  denmark           13\n",
      "13                 portugal           13\n",
      "14                     saul           12\n",
      "15                  james i           11\n",
      "16                  macbeth           11\n",
      "17  richard the lionhearted           11\n",
      "18               george iii           11\n",
      "19           nebuchadnezzar           11\n",
      "20      alexander the great           10\n",
      "21      frederick the great           10\n",
      "22             king hussein           10\n",
      "23                jerusalem            9\n",
      "24                king lear            9\n",
      "25                   poland            9\n",
      "26                  morocco            8\n",
      "27                    spain            8\n",
      "28            elvis presley            8\n",
      "29                   hamlet            8\n",
      "30                 thailand            8\n",
      "31                king john            8\n",
      "32              juan carlos            8\n",
      "33          herod the great            8\n",
      "34          king kamehameha            8\n",
      "35                  bangkok            7\n",
      "36                   oberon            7\n",
      "37    william the conqueror            7\n",
      "38                 scotland            7\n",
      "39         alfred the great            7\n",
      "40                   jordan            7\n",
      "41            davy crockett            7\n",
      "42                wenceslas            7\n",
      "43                   greece            7\n",
      "44               king david            7\n",
      "45                ferdinand            7\n",
      "46                  oedipus            6\n",
      "47                  romania            6\n",
      "48                 napoleon            6\n",
      "49                  hungary            6\n",
      "50             saudi arabia            6\n",
      "51                    tonga            6\n",
      "52                    midas            6\n",
      "53              yul brynner            6\n",
      "54                  henry v            6\n",
      "55                    herod            6\n",
      "56                   cotton            6\n",
      "57                   philip            6\n",
      "58                    italy            6\n",
      "59               charles ii            6\n",
      "60                   xerxes            5\n",
      "61                  camelot            5\n",
      "62                 george i            5\n",
      "63                   duncan            5\n",
      "64                 fay wray            5\n",
      "65          oliver cromwell            5\n",
      "66                henry vii            5\n",
      "67               richard ii            5\n",
      "68                 cordelia            5\n",
      "69             scott joplin            5\n",
      "70                swaziland            5\n",
      "71            benny goodman            5\n",
      "72           the green mile            5\n",
      "73                   edward            5\n",
      "74              magna carta            5\n",
      "75                  beowulf            5\n",
      "76                    egypt            5\n",
      "77                  croesus            5\n",
      "78                hammurabi            5, 'queen':                       target  target_freq\n",
      "0                  cleopatra           28\n",
      "1           marie antoinette           19\n",
      "2        mary queen of scots           16\n",
      "3                   victoria           14\n",
      "4                elizabeth i           14\n",
      "5                   isabella           10\n",
      "6             lady jane grey            9\n",
      "7                    denmark            9\n",
      "8                 queen anne            9\n",
      "9             queen victoria            9\n",
      "10         queen elizabeth i            8\n",
      "11           aretha franklin            8\n",
      "12                wilhelmina            8\n",
      "13  a midsummer nights dream            7\n",
      "14              elizabeth ii            7\n",
      "15                     spain            5\n",
      "16              liliuokalani            5\n",
      "17               anne boleyn            5\n",
      "18                    france            5\n",
      "19                blackbeard            5\n",
      "20                 nefertiti            5\n",
      "21                    sweden            5\n",
      "22        queen elizabeth ii            5\n",
      "23                    esther            5}\n"
     ]
    }
   ],
   "source": [
    "royalty.topic_filter()\n",
    "print(royalty.show())\n",
    "royalty.high_frequency_targets()\n",
    "print(royalty.target_topic_above_freq_threshold)"
   ]
  },
  {
   "cell_type": "markdown",
   "metadata": {},
   "source": [
    "6. Explore from here! This is an incredibly rich dataset, and there are so many interesting things to discover. There are a few columns that we haven't even started looking at yet. Here are some ideas on ways to continue working with this data:\n",
    "\n",
    " * Investigate the ways in which questions change over time by filtering by the date. How many questions from the 90s use the word `\"Computer\"` compared to questions from the 2000s?\n",
    " * Is there a connection between the round and the category? Are you more likely to find certain categories, like `\"Literature\"` in Single Jeopardy or Double Jeopardy?\n",
    " * Build a system to quiz yourself. Grab random questions, and use the <a href=\"https://docs.python.org/3/library/functions.html#input\">input</a> function to get a response from the user. Check to see if that response was right or wrong."
   ]
  },
  {
   "attachments": {},
   "cell_type": "markdown",
   "metadata": {},
   "source": [
    "Exploratory question: How many unique categories are there? Which categories have the highest question counts? Which categories are more likely to be found in each round of jeopardy?"
   ]
  },
  {
   "cell_type": "code",
   "execution_count": 258,
   "metadata": {},
   "outputs": [],
   "source": [
    "class Column_grouping_analysis:\n",
    "    df = jeopardy.copy()\n",
    "\n",
    "    def __init__(self, column_to_group) -> None:\n",
    "        self.column_to_group = column_to_group\n",
    "        self.group_column = Column_grouping_analysis.df[self.column_to_group]\n",
    "        self.unique_in_group = self.unique_groups()\n",
    "        self.group_counts = self.unique_group_item_count()\n",
    "        self.high_freq_group_counts = self.high_freq_groups()\n",
    "        self.high_freq_group_values = self.high_freq_groups_list()\n",
    "        self.group_df_dict = self.hf_group_dataframe_subsets()\n",
    "        self.secondary = ''\n",
    "\n",
    "    def unique_groups (self):\n",
    "        unique_cat_count = self.group_column.nunique()\n",
    "        return unique_cat_count\n",
    "\n",
    "    def unique_group_item_count (self):\n",
    "        group_counts = pd.DataFrame(self.group_column.value_counts())\n",
    "        group_counts.reset_index(inplace=True)\n",
    "        group_counts = group_counts.rename(columns={'index': self.column_to_group, self.column_to_group: str(self.column_to_group+'_freq')})\n",
    "        return group_counts\n",
    "    \n",
    "    def high_freq_groups (self, desired_num_groups = 10):\n",
    "        high_freq_groups_item_count = self.group_counts.head(desired_num_groups)\n",
    "        return high_freq_groups_item_count\n",
    "    \n",
    "    def high_freq_groups_list (self):\n",
    "        list_high_freq_groups = self.high_freq_group_counts[self.column_to_group].tolist()\n",
    "        return list_high_freq_groups\n",
    "    \n",
    "    def hf_group_dataframe_subsets (self):\n",
    "        group_dataframe_subsets_dict = {}\n",
    "        for value in self.high_freq_group_values:\n",
    "            value_sub_df = Column_grouping_analysis.df[Column_grouping_analysis.df[self.column_to_group]==value]\n",
    "            group_dataframe_subsets_dict[value] = value_sub_df\n",
    "        return group_dataframe_subsets_dict\n",
    "    \n",
    "    def secondary_analysis_column_groups (self, secondary_column):\n",
    "        self.secondary = secondary_column\n",
    "        secondary_analysis_groups = []\n",
    "        for key, value in self.group_df_dict.items():\n",
    "            unique_secondary = pd.DataFrame(value[secondary_column].value_counts())\n",
    "            unique_secondary.reset_index(inplace = True)\n",
    "            unique_secondary = unique_secondary.rename(columns = {\"index\": secondary_column, secondary_column: str(secondary_column+'_count')})\n",
    "            unique_secondary['group_column_hf_value'] = key\n",
    "            secondary_analysis_groups.append(unique_secondary)\n",
    "        secondary_analysis_df = pd.concat(secondary_analysis_groups, ignore_index=True)\n",
    "        secondary_analysis_df_pivot = secondary_analysis_df.pivot(columns= secondary_column, index = 'group_column_hf_value', values=str(secondary_column+'_count'))\n",
    "        return secondary_analysis_df_pivot\n",
    "    \n",
    "    def report (self, secondary_column):\n",
    "        pivot = self.secondary_analysis_column_groups(secondary_column=secondary_column)\n",
    "        print(textwrap.fill('''Within the Jeopardy dataset there are {n} unique values of {group_column} column.The {m} most frequent of these are listed in the following table along with their count.'''.format(n = self.unique_in_group, group_column = self.column_to_group, m = len(self.high_freq_group_values)), width = 80))\n",
    "        pprint.pprint( self.high_freq_group_counts)\n",
    "        print(textwrap.fill(\"\"\"By cross comparing them with the values of {secondary_column} column we can utilize a pivot table to see a break down of the count of {group_column} broken down by the values of {secondary_column}.\"\"\".format(group_column = self.column_to_group, secondary_column = self.secondary), width = 80))\n",
    "        pprint.pprint(pivot)\n",
    "\n",
    "\n",
    "            \n"
   ]
  },
  {
   "cell_type": "code",
   "execution_count": 259,
   "metadata": {},
   "outputs": [
    {
     "name": "stdout",
     "output_type": "stream",
     "text": [
      "Within the Jeopardy dataset there are 27155 unique values of category_words\n",
      "column.The 10 most frequent of these are listed in the following table along\n",
      "with their count.\n",
      "           category_words  category_words_freq\n",
      "0           before  after                  556\n",
      "1                 science                  547\n",
      "2              literature                  499\n",
      "3        american history                  415\n",
      "4               potpourri                  409\n",
      "5           world history                  381\n",
      "6            word origins                  368\n",
      "7  colleges  universities                  354\n",
      "8                 history                  349\n",
      "9                  sports                  346\n",
      "By cross comparing them with the values of game_round column we can utilize a\n",
      "pivot table to see a break down of the count of category_words broken down by\n",
      "the values of game_round.\n",
      "game_round              Double Jeopardy  Final Jeopardy  Jeopardy\n",
      "group_column_hf_value                                            \n",
      "american history                  174.0            17.0     224.0\n",
      "before  after                     454.0             NaN     102.0\n",
      "colleges  universities            223.0             6.0     125.0\n",
      "history                           194.0             NaN     155.0\n",
      "literature                        380.0            10.0     109.0\n",
      "potpourri                         145.0             NaN     264.0\n",
      "science                           311.0             6.0     230.0\n",
      "sports                             80.0             8.0     258.0\n",
      "word origins                      189.0            34.0     145.0\n",
      "world history                     236.0            11.0     134.0\n"
     ]
    }
   ],
   "source": [
    "jeopardy_categories = Column_grouping_analysis('category_words')\n",
    "jeopardy_categories.report('game_round')"
   ]
  },
  {
   "attachments": {},
   "cell_type": "markdown",
   "metadata": {},
   "source": [
    "Exploratory question: What tech related questions, answers, and categories are there? Given a list of topic words, what are the concept related questions & answers? How have they changed over time?"
   ]
  },
  {
   "cell_type": "code",
   "execution_count": 260,
   "metadata": {},
   "outputs": [],
   "source": [
    "class Topics_over_time:\n",
    "\n",
    "    def __init__(self, df, filter_columns_list, filter_list, time_date_col, topic_descriptor ) -> None:\n",
    "        self.df = df\n",
    "        self.filter_columns = filter_columns_list\n",
    "        self.topics = filter_list\n",
    "        self.filtered_df_by_topic = self.filter_column_on_list()\n",
    "        self.filtered_columns_by_topic = self.df_filtered_columns()\n",
    "        self.df_item_count_by_topic = self.topic_item_count()\n",
    "        self.date_col_name = time_date_col\n",
    "        self.date_col = df[time_date_col]\n",
    "        self.topic_count_by_year = self.topic_item_count_by_year()\n",
    "        self.topic_descriptor = topic_descriptor\n",
    "        self.topics_time_graph = self.graph_of_topic_by_time()\n",
    "        pass\n",
    "    \n",
    "    def filter_column_on_list (self):\n",
    "        dict_topics_df_lines = {}\n",
    "        for item in self.topics:\n",
    "            temp_df_list = []\n",
    "            for col in self.filter_columns:\n",
    "                temp_df = self.df[self.df[col].str.contains(item)]\n",
    "                temp_df_list.append(temp_df)\n",
    "            all_topic_lines_df = pd.concat(temp_df_list).reset_index(allow_duplicates=False)\n",
    "            all_topic_lines_df.drop_duplicates(inplace= True)\n",
    "            dict_topics_df_lines[item] = all_topic_lines_df   \n",
    "        return dict_topics_df_lines\n",
    "    \n",
    "    def df_filtered_columns (self):\n",
    "        dict_topic_df_filter_col = {}\n",
    "        for key, value in self.filtered_df_by_topic.items():\n",
    "            new_temp_df = value[self.filter_columns]\n",
    "            dict_topic_df_filter_col[key] = new_temp_df\n",
    "        return dict_topic_df_filter_col\n",
    "    \n",
    "    def topic_item_count (self):\n",
    "        item_count_by_topic = {}\n",
    "        for key, value in self.filtered_df_by_topic.items():\n",
    "            item_count_by_topic[key] = (value['index'].count())\n",
    "        return item_count_by_topic\n",
    "    \n",
    "    def topic_item_count_by_year (self):\n",
    "        topic_item_count_yearly = []\n",
    "        for key, value in self.filtered_df_by_topic.items():\n",
    "            value[self.date_col_name] = pd.to_datetime(value[self.date_col_name])\n",
    "            topic_item_by_year = value.groupby(value[self.date_col_name].dt.year).index.count()\n",
    "            yearly_topic_counts = topic_item_by_year.reset_index()\n",
    "            yearly_topic_counts.rename(columns = {'index':'item_count'}, inplace = True)\n",
    "            yearly_topic_counts ['topic'] = key\n",
    "            topic_item_count_yearly.append(yearly_topic_counts)\n",
    "        yearly_topic_count_df= pd.concat(topic_item_count_yearly, ignore_index=True)\n",
    "        yearly_topic_count_df_pivot = yearly_topic_count_df.pivot(columns= 'topic', index = self.date_col_name, values=str('item_count'))\n",
    "        return yearly_topic_count_df_pivot\n",
    "    \n",
    "    def graph_of_topic_by_time(self):\n",
    "        plt.plot(self.topic_count_by_year, label = self.topic_count_by_year.columns)\n",
    "        plt.legend()\n",
    "        plt.title(self.topic_descriptor)\n",
    "        topics_over_time_graph = plt.show()\n",
    "        return topics_over_time_graph"
   ]
  },
  {
   "cell_type": "code",
   "execution_count": 261,
   "metadata": {},
   "outputs": [],
   "source": [
    "tech_words = ['internet', 'computer', 'digital', 'software','computing', 'coding','cyber', 'software', 'hardware']\n",
    "topic_columns = ['category_words', 'question_no_link', 'answer_words']"
   ]
  },
  {
   "cell_type": "code",
   "execution_count": 262,
   "metadata": {},
   "outputs": [
    {
     "data": {
      "image/png": "[encoded data removed]",
      "text/plain": [
       "<Figure size 640x480 with 1 Axes>"
      ]
     },
     "metadata": {},
     "output_type": "display_data"
    }
   ],
   "source": [
    "tech_over_time = Topics_over_time(\n",
    "    df = jeopardy.copy(),\n",
    "    filter_columns_list = topic_columns, \n",
    "    filter_list = tech_words,\n",
    "    time_date_col = 'air_date',\n",
    "    topic_descriptor = \"Computer & Technology Questions over Time\"\n",
    "    )"
   ]
  },
  {
   "cell_type": "code",
   "execution_count": 263,
   "metadata": {},
   "outputs": [],
   "source": [
    "freq_unique_ans = ['australia', 'china', 'japan']"
   ]
  },
  {
   "cell_type": "code",
   "execution_count": 264,
   "metadata": {},
   "outputs": [
    {
     "data": {
      "image/png": "[encoded data removed]",
      "text/plain": [
       "<Figure size 640x480 with 1 Axes>"
      ]
     },
     "metadata": {},
     "output_type": "display_data"
    }
   ],
   "source": [
    "freq_unique_ans_over_time = Topics_over_time(\n",
    "    df = jeopardy.copy(),\n",
    "    filter_columns_list = topic_columns, \n",
    "    filter_list = freq_unique_ans,\n",
    "    time_date_col = 'air_date',\n",
    "    topic_descriptor = \"Top 3 answer words frequency over Time\"\n",
    "    )"
   ]
  },
  {
   "cell_type": "markdown",
   "metadata": {},
   "source": [
    "## Solution"
   ]
  },
  {
   "cell_type": "markdown",
   "metadata": {},
   "source": [
    "7. Compare your program to our <a href=\"https://content.codecademy.com/PRO/independent-practice-projects/jeopardy/jeopardy_solution.zip\">sample solution code</a> - remember, that your program might look different from ours (and probably will) and that's okay!"
   ]
  },
  {
   "cell_type": "markdown",
   "metadata": {},
   "source": [
    "8. Great work! Visit <a href=\"https://discuss.codecademy.com/t/this-is-jeopardy-challenge-project-python-pandas/462365\">our forums</a> to compare your project to our sample solution code. You can also learn how to host your own solution on GitHub so you can share it with other learners! Your solution might look different from ours, and that's okay! There are multiple ways to solve these projects, and you'll learn more by seeing others' code."
   ]
  }
 ],
 "metadata": {
  "kernelspec": {
   "display_name": "Python 3",
   "language": "python",
   "name": "python3"
  },
  "language_info": {
   "codemirror_mode": {
    "name": "ipython",
    "version": 3
   },
   "file_extension": ".py",
   "mimetype": "text/x-python",
   "name": "python",
   "nbconvert_exporter": "python",
   "pygments_lexer": "ipython3",
   "version": "3.10.6"
  },
  "vscode": {
   "interpreter": {
    "hash": "916dbcbb3f70747c44a77c7bcd40155683ae19c65e1c03b4aa3499c5328201f1"
   }
  }
 },
 "nbformat": 4,
 "nbformat_minor": 2
}
