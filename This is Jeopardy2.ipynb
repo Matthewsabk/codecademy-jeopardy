king
                     answer  answer_freq
0                henry viii           55
1               richard iii           35
2                   solomon           35
3                 louis xiv           31
4                     david           30
5                    norway           27
6                    sweden           27
7                   belgium           19
8                 charles i           19
9                     tonga           18
10               george iii           17
11              charlemagne           17
12                   france           17
13                 scotland           17
14                     saul           16
15             saudi arabia           16
16                 portugal           16
17                  denmark           16
18      alexander the great           15
19                    spain           15
20                king lear           15
21                louis xvi           15
22                  macbeth           14
23                  memphis           14
24                  james i           14
25  richard the lionhearted           14
26                 thailand           14
27                   hamlet           13
28              king arthur           13
29           nebuchadnezzar           13
30                    italy           13
31                  morocco           13
32      frederick the great           12
33                   jordan           11
34            elvis presley           11
35                   poland           11
36             king hussein           11
37                hammurabi           11
38          king kamehameha           10
39                jerusalem           10
40              juan carlos           10
41            benny goodman           10
42                    egypt           10
queen
                 answer  answer_freq
0             cleopatra           33
1      marie antoinette           28
2              victoria           25
3   mary queen of scots           22
4           elizabeth i           20
5        queen victoria           16
6              isabella           14
7               denmark           11
8             nefertiti           10
9            queen anne           10
10           wilhelmina           10
11       lady jane grey           10
